{
  "nbformat": 4,
  "nbformat_minor": 0,
  "metadata": {
    "colab": {
      "name": "q5.ipynb",
      "provenance": [],
      "collapsed_sections": []
    },
    "kernelspec": {
      "name": "python3",
      "display_name": "Python 3"
    },
    "accelerator": "TPU"
  },
  "cells": [
    {
      "cell_type": "markdown",
      "metadata": {
        "id": "QnhilQcsQjX7"
      },
      "source": [
        "# 1. Data Preprocessing and import libreries"
      ]
    },
    {
      "cell_type": "markdown",
      "metadata": {
        "id": "GjwjiKIiQpyX"
      },
      "source": [
        "## 1.1 Import required libreries"
      ]
    },
    {
      "cell_type": "code",
      "metadata": {
        "id": "Cvjm4j6TdJ9N"
      },
      "source": [
        "import numpy as np\n",
        "from urllib import request\n",
        "import random\n",
        "import gzip\n",
        "import pickle\n",
        "import os\n",
        "import matplotlib.pyplot as plt\n",
        "import pandas as pd \n",
        "%matplotlib inline"
      ],
      "execution_count": 1,
      "outputs": []
    },
    {
      "cell_type": "markdown",
      "metadata": {
        "id": "_rT_uj5zQxdq"
      },
      "source": [
        "## 1.2 Load mnist data"
      ]
    },
    {
      "cell_type": "code",
      "metadata": {
        "id": "aWtiYHcrdSVz"
      },
      "source": [
        "filename = [\n",
        "[\"training_images\",\"train-images-idx3-ubyte.gz\"],\n",
        "[\"test_images\",\"t10k-images-idx3-ubyte.gz\"],\n",
        "[\"training_labels\",\"train-labels-idx1-ubyte.gz\"],\n",
        "[\"test_labels\",\"t10k-labels-idx1-ubyte.gz\"]\n",
        "]"
      ],
      "execution_count": 2,
      "outputs": []
    },
    {
      "cell_type": "code",
      "metadata": {
        "id": "o_IXGJH1dUpV",
        "outputId": "43a3bd85-cd2c-4cfe-a53d-8debe0d51a31",
        "colab": {
          "base_uri": "https://localhost:8080/"
        }
      },
      "source": [
        "def download_mnist():\n",
        "    base_url = \"http://yann.lecun.com/exdb/mnist/\"\n",
        "    for name in filename:\n",
        "        print(\"Downloading \"+name[1]+\"...\")\n",
        "        request.urlretrieve(base_url+name[1], name[1])\n",
        "    print(\"Download complete.\")\n",
        "\n",
        "def save_mnist():\n",
        "    mnist = {}\n",
        "    for name in filename[:2]:\n",
        "        with gzip.open(name[1], 'rb') as f:\n",
        "            mnist[name[0]] = np.frombuffer(f.read(), np.uint8, offset=16).reshape(-1,28*28)\n",
        "    for name in filename[-2:]:\n",
        "        with gzip.open(name[1], 'rb') as f:\n",
        "            mnist[name[0]] = np.frombuffer(f.read(), np.uint8, offset=8)\n",
        "    with open(\"mnist.pkl\", 'wb') as f:\n",
        "        pickle.dump(mnist,f)\n",
        "    print(\"Save complete.\")\n",
        "\n",
        "def init():\n",
        "    download_mnist()\n",
        "    save_mnist()\n",
        "\n",
        "def load():\n",
        "    with open(\"mnist.pkl\",'rb') as f:\n",
        "        mnist = pickle.load(f)\n",
        "    return mnist[\"training_images\"], mnist[\"training_labels\"], mnist[\"test_images\"], mnist[\"test_labels\"]\n",
        "init()"
      ],
      "execution_count": 3,
      "outputs": [
        {
          "output_type": "stream",
          "text": [
            "Downloading train-images-idx3-ubyte.gz...\n",
            "Downloading t10k-images-idx3-ubyte.gz...\n",
            "Downloading train-labels-idx1-ubyte.gz...\n",
            "Downloading t10k-labels-idx1-ubyte.gz...\n",
            "Download complete.\n",
            "Save complete.\n"
          ],
          "name": "stdout"
        }
      ]
    },
    {
      "cell_type": "code",
      "metadata": {
        "id": "Whq-Cl7ydPY-"
      },
      "source": [
        "def load_mnist(final=False, flatten=True):\n",
        "\n",
        "    if not os.path.isfile('mnist.pkl'):\n",
        "        init()\n",
        "\n",
        "    xtrain, ytrain, xtest, ytest = load()\n",
        "    xtl, xsl = xtrain.shape[0], xtest.shape[0]\n",
        "\n",
        "    if flatten:\n",
        "        xtrain = xtrain.reshape(xtl, -1)\n",
        "        xtest  = xtest.reshape(xsl, -1)\n",
        "\n",
        "    if not final: # return the flattened images\n",
        "        return (xtrain[:-5000], ytrain[:-5000]), (xtrain[-5000:], ytrain[-5000:]), 10\n",
        "\n",
        "    return (xtrain, ytrain), (xtest, ytest), 10"
      ],
      "execution_count": 4,
      "outputs": []
    },
    {
      "cell_type": "code",
      "metadata": {
        "id": "6vwyBsncdaSV"
      },
      "source": [
        "(x_train, t_train), (x_test,t_test), cls = load_mnist()"
      ],
      "execution_count": 5,
      "outputs": []
    },
    {
      "cell_type": "code",
      "metadata": {
        "id": "BSydCpzrWFC3",
        "outputId": "3fb96b8f-b073-4754-c310-a7704723a26c",
        "colab": {
          "base_uri": "https://localhost:8080/"
        }
      },
      "source": [
        "print(x_train.shape, t_train.shape)"
      ],
      "execution_count": 6,
      "outputs": [
        {
          "output_type": "stream",
          "text": [
            "(55000, 784) (55000,)\n"
          ],
          "name": "stdout"
        }
      ]
    },
    {
      "cell_type": "code",
      "metadata": {
        "id": "5WeCr1Q2dcil",
        "outputId": "371649a3-8836-4bfd-bbf0-1f41487c814d",
        "colab": {
          "base_uri": "https://localhost:8080/",
          "height": 265
        }
      },
      "source": [
        "img = x_train[0,:].reshape(28,28) # First image in the training set.\n",
        "plt.imshow(img,cmap='gray')\n",
        "plt.show() # Show the image"
      ],
      "execution_count": 7,
      "outputs": [
        {
          "output_type": "display_data",
          "data": {
            "image/png": "[encoded data removed]",
            "text/plain": [
              "<Figure size 432x288 with 1 Axes>"
            ]
          },
          "metadata": {
            "tags": [],
            "needs_background": "light"
          }
        }
      ]
    },
    {
      "cell_type": "markdown",
      "metadata": {
        "id": "AxTbIpxNReUo"
      },
      "source": [
        "## 1.3 data processing"
      ]
    },
    {
      "cell_type": "markdown",
      "metadata": {
        "id": "zrMA2r3HRtlG"
      },
      "source": [
        "### 1.3.1 Cover data to numpy array, convert to float and normalize by deviding 255 as gray sclase images will have 255 as the maximum value"
      ]
    },
    {
      "cell_type": "code",
      "metadata": {
        "id": "XJcX0Y_Ndeh1"
      },
      "source": [
        "x_train = np.array(x_train)\n",
        "t_train = np.array(t_train)\n",
        "x_test = np.array(x_test)\n",
        "t_test = np.array(t_test)"
      ],
      "execution_count": 8,
      "outputs": []
    },
    {
      "cell_type": "code",
      "metadata": {
        "id": "Bpn5I2tvdgjx"
      },
      "source": [
        "x_train = x_train.astype(np.float32)\n",
        "x_test = x_test.astype(np.float32)\n",
        "x_train = x_train/255.\n",
        "x_test = x_test/255."
      ],
      "execution_count": 9,
      "outputs": []
    },
    {
      "cell_type": "code",
      "metadata": {
        "id": "IM1YOOa71yJ_",
        "outputId": "878ebafb-bd43-4eb3-cf11-ebba47d8a72b",
        "colab": {
          "base_uri": "https://localhost:8080/"
        }
      },
      "source": [
        "x_train.shape"
      ],
      "execution_count": 10,
      "outputs": [
        {
          "output_type": "execute_result",
          "data": {
            "text/plain": [
              "(55000, 784)"
            ]
          },
          "metadata": {
            "tags": []
          },
          "execution_count": 10
        }
      ]
    },
    {
      "cell_type": "markdown",
      "metadata": {
        "id": "I-_f_Ou0SMPU"
      },
      "source": [
        "## 1.3.2 Output data processing by converting to one hot encoded data"
      ]
    },
    {
      "cell_type": "code",
      "metadata": {
        "id": "_s4Lhgf7dip6"
      },
      "source": [
        "def convertToOneHot(vector, num_classes=None):\n",
        "\n",
        "    assert isinstance(vector, np.ndarray)\n",
        "    assert len(vector) > 0\n",
        "\n",
        "    if num_classes is None:\n",
        "        num_classes = np.max(vector)+1\n",
        "    else:\n",
        "        assert num_classes > 0\n",
        "        assert num_classes >= np.max(vector)\n",
        "\n",
        "    result = np.zeros(shape=(len(vector), num_classes))\n",
        "    result[np.arange(len(vector)), vector] = 1\n",
        "    return result.astype(int)\n",
        "\n",
        "t_train_hot = convertToOneHot(t_train)\n",
        "t_test_hot = convertToOneHot(t_test)"
      ],
      "execution_count": 11,
      "outputs": []
    },
    {
      "cell_type": "code",
      "metadata": {
        "id": "k8d-yd-x1gt0",
        "outputId": "a1ac7b3b-d60a-4568-886d-5654d46e8692",
        "colab": {
          "base_uri": "https://localhost:8080/"
        }
      },
      "source": [
        "t_train_hot.shape"
      ],
      "execution_count": 12,
      "outputs": [
        {
          "output_type": "execute_result",
          "data": {
            "text/plain": [
              "(55000, 10)"
            ]
          },
          "metadata": {
            "tags": []
          },
          "execution_count": 12
        }
      ]
    },
    {
      "cell_type": "code",
      "metadata": {
        "id": "aEzQes8gdk9d",
        "outputId": "d1a655ea-70fb-4f4d-ea6e-9a7a57187729",
        "colab": {
          "base_uri": "https://localhost:8080/",
          "height": 282
        }
      },
      "source": [
        "print(t_test_hot[0])\n",
        "img = x_test[0,:].reshape(28,28)\n",
        "plt.imshow(img, cmap='gray')\n",
        "plt.show()"
      ],
      "execution_count": 13,
      "outputs": [
        {
          "output_type": "stream",
          "text": [
            "[0 1 0 0 0 0 0 0 0 0]\n"
          ],
          "name": "stdout"
        },
        {
          "output_type": "display_data",
          "data": {
            "image/png": "[encoded data removed]",
            "text/plain": [
              "<Figure size 432x288 with 1 Axes>"
            ]
          },
          "metadata": {
            "tags": [],
            "needs_background": "light"
          }
        }
      ]
    },
    {
      "cell_type": "markdown",
      "metadata": {
        "id": "gnnogltZdwf-"
      },
      "source": [
        "# 2. Building the network"
      ]
    },
    {
      "cell_type": "code",
      "metadata": {
        "id": "uDuJV_Mddn1Z"
      },
      "source": [
        "# Activation Functions \n",
        "def sigmoid(inputs):\n",
        "    return 1 / (1 + np.exp(-inputs))\n",
        "def softmax(inputs):\n",
        "    val = np.exp(inputs - np.max(inputs, axis=1, keepdims=True))\n",
        "    return val/ np.sum(val, axis=1, keepdims=True)\n",
        "# Loss function \n",
        "def log_loss(y_hat, y_target):\n",
        "    y_hat = np.clip(y_hat, 1e-7, 1 - 1e-7)\n",
        "    val = np.sum(y_hat * y_target,axis=1)\n",
        "    return np.mean(-np.log(val))\n",
        "# Gradient funcrtions for loss and activation \n",
        "def gradient_loss(y_hat, y_target):\n",
        "    return y_hat - y_target\n",
        "def gradient_sigmoid(layer, grads_in):\n",
        "    return grads_in * layer.activation_output * (1 - layer.activation_output)\n",
        "# Optimizer \n",
        "def optimizer(layer, lr):\n",
        "    layer.weights = layer.weights -lr * layer.dw\n",
        "    layer.biases = layer.biases -lr * layer.db\n",
        "def mini_batch(X, y, batchSize):\n",
        "\tfor i in np.arange(0, X.shape[0], batchSize):\n",
        "\t\tyield (X[i:i + batchSize], y[i:i + batchSize])"
      ],
      "execution_count": 14,
      "outputs": []
    },
    {
      "cell_type": "code",
      "metadata": {
        "id": "QhzsN4Krd_rP"
      },
      "source": [
        "class layer():\n",
        "    def __init__ (self, input_size, neuron_no):\n",
        "        self.neuron_no = neuron_no\n",
        "        self.weights = 0.1 * np.random.randn(input_size, neuron_no)\n",
        "        self.biases = np.zeros((1, neuron_no))\n",
        "    def forward_pass(self, inputs, activation = 'sigmoid'):\n",
        "        self.inputs = inputs \n",
        "        self.outputs = np.dot(inputs, self.weights) + self.biases\n",
        "        if activation == 'sigmoid': self.activation_output = sigmoid(self.outputs) \n",
        "        elif activation == 'softmax': self.activation_output = softmax(self.outputs)\n",
        "    def backward_pass(self, grads_in):\n",
        "        self.dw = np.dot(self.inputs.T, grads_in)\n",
        "        self.db = np.sum(grads_in, axis=0, keepdims=True)\n",
        "        self.grads = np.dot(grads_in, self.weights.T)"
      ],
      "execution_count": 15,
      "outputs": []
    },
    {
      "cell_type": "markdown",
      "metadata": {
        "id": "OIBIi37qSuS9"
      },
      "source": [
        "# 3 Experiments and results"
      ]
    },
    {
      "cell_type": "markdown",
      "metadata": {
        "id": "bqaB1iJCSzC_"
      },
      "source": [
        "## 3.1 Initail training with 20 epoches and lr=0.01"
      ]
    },
    {
      "cell_type": "code",
      "metadata": {
        "id": "Cl0MYyP8jYqS",
        "outputId": "443348f7-995a-40f9-aba8-b3f96535a6db",
        "colab": {
          "base_uri": "https://localhost:8080/"
        }
      },
      "source": [
        "lr = 0.01 \n",
        "epochs = 20\n",
        "batch_size = 50\n",
        "training_loss = []\n",
        "validation_loss = []\n",
        "training_accuracy = []\n",
        "validation_accuracy = []\n",
        "\n",
        "# Setting up the network \n",
        "input_layer = layer(neuron_no=300, input_size=784)\n",
        "output_layer = layer(neuron_no=10, input_size=300)\n",
        "\n",
        "for epoch in np.arange(0, epochs):\n",
        "  trainLoss = []\n",
        "  trainAcc = []\n",
        "  valLoss = []\n",
        "  valAcc = []\n",
        "  for (miniX, miniY) in mini_batch(x_train, t_train_hot, batch_size):\n",
        "\n",
        "    # Forward Pass\n",
        "    input_layer.forward_pass(inputs=miniX, activation='sigmoid')\n",
        "    output_layer.forward_pass(inputs=input_layer.activation_output, \n",
        "                             activation='softmax')\n",
        "    # Calculate Loss \n",
        "    loss = log_loss(output_layer.activation_output, miniY)\n",
        "    # loss = np.sum(err ** 2)\n",
        "    trainLoss.append(loss)\n",
        "    \n",
        "    predictions = np.argmax(output_layer.activation_output, axis=1)\n",
        "    if len(miniY.shape) == 2:\n",
        "        y = np.argmax(miniY, axis=1)\n",
        "    accuracy = np.mean(predictions==y)\n",
        "    trainAcc.append(accuracy)\n",
        "\n",
        "    # Backward pass \n",
        "    dL = gradient_loss(output_layer.activation_output, miniY)\n",
        "    output_layer.backward_pass(dL)\n",
        "    d_sig = gradient_sigmoid(input_layer, output_layer.grads)\n",
        "    # print(d_sig)\n",
        "    input_layer.backward_pass(d_sig)\n",
        "\n",
        "    # update weights and biases \n",
        "    optimizer(input_layer, lr)\n",
        "    optimizer(output_layer, lr)\n",
        "  for (miniX, miniY) in mini_batch(x_test, t_test_hot, batch_size):\n",
        "\n",
        "    # Forward Pass\n",
        "    input_layer.forward_pass(inputs=miniX, activation='sigmoid')\n",
        "    output_layer.forward_pass(inputs=input_layer.activation_output, \n",
        "                             activation='softmax')\n",
        "    # Calculate Loss \n",
        "    loss = log_loss(output_layer.activation_output, miniY)\n",
        "    # loss = np.sum(err ** 2)\n",
        "    valLoss.append(loss)\n",
        "\n",
        "    predictions = np.argmax(output_layer.activation_output, axis=1)\n",
        "    if len(miniY.shape) == 2:\n",
        "        y = np.argmax(miniY, axis=1)\n",
        "    accuracy = np.mean(predictions==y)\n",
        "    valAcc.append(accuracy)\n",
        "\n",
        "  # print('epoch',epoch,'train loss:', np.average(trainLoss), \"Val loss:\", np.average(valLoss))\n",
        "  print(f'epoch {epoch}, train loss: {np.average(trainLoss):.3f}, val loss:{np.average(valLoss):.3f}, train acc:{np.average(trainAcc):.3f}, val acc:{np.average(valAcc):.3f}')\n",
        "  training_loss.append(np.average(trainLoss))\n",
        "  validation_loss.append(np.average(valLoss))\n",
        "  training_accuracy.append(np.average(trainAcc))\n",
        "  validation_accuracy.append(np.average(valAcc))\n",
        "\n"
      ],
      "execution_count": 19,
      "outputs": [
        {
          "output_type": "stream",
          "text": [
            "epoch 0, train loss: 0.403, val loss:0.211, train acc:0.887, val acc:0.943\n",
            "epoch 1, train loss: 0.206, val loss:0.151, train acc:0.940, val acc:0.959\n",
            "epoch 2, train loss: 0.152, val loss:0.124, train acc:0.956, val acc:0.967\n",
            "epoch 3, train loss: 0.120, val loss:0.109, train acc:0.965, val acc:0.971\n",
            "epoch 4, train loss: 0.099, val loss:0.099, train acc:0.972, val acc:0.974\n",
            "epoch 5, train loss: 0.083, val loss:0.092, train acc:0.976, val acc:0.977\n",
            "epoch 6, train loss: 0.072, val loss:0.087, train acc:0.980, val acc:0.979\n",
            "epoch 7, train loss: 0.062, val loss:0.082, train acc:0.982, val acc:0.979\n",
            "epoch 8, train loss: 0.055, val loss:0.079, train acc:0.985, val acc:0.978\n",
            "epoch 9, train loss: 0.048, val loss:0.077, train acc:0.987, val acc:0.978\n",
            "epoch 10, train loss: 0.043, val loss:0.075, train acc:0.988, val acc:0.979\n",
            "epoch 11, train loss: 0.038, val loss:0.073, train acc:0.990, val acc:0.979\n",
            "epoch 12, train loss: 0.034, val loss:0.071, train acc:0.992, val acc:0.980\n",
            "epoch 13, train loss: 0.031, val loss:0.070, train acc:0.993, val acc:0.980\n",
            "epoch 14, train loss: 0.027, val loss:0.069, train acc:0.994, val acc:0.980\n",
            "epoch 15, train loss: 0.025, val loss:0.067, train acc:0.995, val acc:0.981\n",
            "epoch 16, train loss: 0.022, val loss:0.066, train acc:0.996, val acc:0.981\n",
            "epoch 17, train loss: 0.020, val loss:0.065, train acc:0.997, val acc:0.982\n",
            "epoch 18, train loss: 0.018, val loss:0.065, train acc:0.997, val acc:0.982\n",
            "epoch 19, train loss: 0.017, val loss:0.064, train acc:0.998, val acc:0.982\n"
          ],
          "name": "stdout"
        }
      ]
    },
    {
      "cell_type": "code",
      "metadata": {
        "id": "2doB9xkYq953",
        "outputId": "6205ba2a-eed7-44f7-f703-95d0a69eb396",
        "colab": {
          "base_uri": "https://localhost:8080/",
          "height": 281
        }
      },
      "source": [
        "plt.title('Training vs Validation loss')\n",
        "plt.plot(training_loss, color='g', label='train' )\n",
        "plt.plot(validation_loss, linewidth=2, color='r', label='val')\n",
        "plt.legend()\n",
        "plt.grid()\n",
        "plt.show()"
      ],
      "execution_count": 20,
      "outputs": [
        {
          "output_type": "display_data",
          "data": {
            "image/png": "[encoded data removed]",
            "text/plain": [
              "<Figure size 432x288 with 1 Axes>"
            ]
          },
          "metadata": {
            "tags": [],
            "needs_background": "light"
          }
        }
      ]
    },
    {
      "cell_type": "code",
      "metadata": {
        "id": "Pfr9KhAZBQ7q",
        "outputId": "0fa9230b-6322-4974-f994-16ac420727bb",
        "colab": {
          "base_uri": "https://localhost:8080/",
          "height": 281
        }
      },
      "source": [
        "plt.title('Training vs Validation Accuracy')\n",
        "plt.plot(training_accuracy,color='g', label='train')\n",
        "plt.plot(validation_accuracy,linewidth=2, color='r', label='val')\n",
        "plt.legend()\n",
        "plt.grid()\n",
        "plt.show()"
      ],
      "execution_count": 21,
      "outputs": [
        {
          "output_type": "display_data",
          "data": {
            "image/png": "[encoded data removed]",
            "text/plain": [
              "<Figure size 432x288 with 1 Axes>"
            ]
          },
          "metadata": {
            "tags": [],
            "needs_background": "light"
          }
        }
      ]
    },
    {
      "cell_type": "markdown",
      "metadata": {
        "id": "8Vzsu5N6TDWS"
      },
      "source": [
        "## 3.2 Impact on loss and accurance for using SGD "
      ]
    },
    {
      "cell_type": "code",
      "metadata": {
        "id": "HTSSrYj8oIdY"
      },
      "source": [
        "# Setting up the network \n",
        "\n",
        "iteration_no = 30\n",
        "\n",
        "iter_loss_tr = []\n",
        "iter_loss_val = []\n",
        "iter_acc_tr = []\n",
        "iter_acc_val = []\n",
        "for i in range(iteration_no):\n",
        "  input_layer = layer(neuron_no=300, input_size=784)\n",
        "  output_layer = layer(neuron_no=10, input_size=300)\n",
        "\n",
        "  lr = 0.01 \n",
        "  epochs = 5\n",
        "  batch_size = 50\n",
        "  training_loss = []\n",
        "  validation_loss = []\n",
        "  training_accuracy = []\n",
        "  validation_accuracy = []\n",
        "\n",
        "\n",
        "  for epoch in np.arange(0, epochs):\n",
        "    trainLoss = []\n",
        "    trainAcc = []\n",
        "    valLoss = []\n",
        "    valAcc = []\n",
        "    for (miniX, miniY) in mini_batch(x_train, t_train_hot, batch_size):\n",
        "\n",
        "      # Forward Pass\n",
        "      input_layer.forward_pass(inputs=miniX, activation='sigmoid')\n",
        "      output_layer.forward_pass(inputs=input_layer.activation_output, \n",
        "                              activation='softmax')\n",
        "      # Calculate Loss \n",
        "      loss = log_loss(output_layer.activation_output, miniY)\n",
        "      # loss = np.sum(err ** 2)\n",
        "      trainLoss.append(loss)\n",
        "      \n",
        "      predictions = np.argmax(output_layer.activation_output, axis=1)\n",
        "      if len(miniY.shape) == 2:\n",
        "          y = np.argmax(miniY, axis=1)\n",
        "      accuracy = np.mean(predictions==y)\n",
        "      trainAcc.append(accuracy)\n",
        "\n",
        "      # Backward pass \n",
        "      dL = gradient_loss(output_layer.activation_output, miniY)\n",
        "      output_layer.backward_pass(dL)\n",
        "      d_sig = gradient_sigmoid(input_layer, output_layer.grads)\n",
        "      # print(d_sig)\n",
        "      input_layer.backward_pass(d_sig)\n",
        "\n",
        "      # update weights and biases \n",
        "      optimizer(input_layer, lr)\n",
        "      optimizer(output_layer, lr)\n",
        "    for (miniX, miniY) in mini_batch(x_test, t_test_hot, batch_size):\n",
        "\n",
        "      # Forward Pass\n",
        "      input_layer.forward_pass(inputs=miniX, activation='sigmoid')\n",
        "      output_layer.forward_pass(inputs=input_layer.activation_output, \n",
        "                              activation='softmax')\n",
        "      # Calculate Loss \n",
        "      loss = log_loss(output_layer.activation_output, miniY)\n",
        "      # loss = np.sum(err ** 2)\n",
        "      valLoss.append(loss)\n",
        "\n",
        "      predictions = np.argmax(output_layer.activation_output, axis=1)\n",
        "      if len(miniY.shape) == 2:\n",
        "          y = np.argmax(miniY, axis=1)\n",
        "      accuracy = np.mean(predictions==y)\n",
        "      valAcc.append(accuracy)\n",
        "\n",
        "    # print('epoch',epoch,'train loss:', np.average(trainLoss), \"Val loss:\", np.average(valLoss))\n",
        "    # print(f'epoch {epoch}, train loss: {np.average(trainLoss):.3f}, val loss:{np.average(valLoss):.3f}, train acc:{np.average(trainAcc):.3f}, val acc:{np.average(valAcc):.3f}')\n",
        "    training_loss.append(np.average(trainLoss))\n",
        "    validation_loss.append(np.average(valLoss))\n",
        "    training_accuracy.append(np.average(trainAcc))\n",
        "    validation_accuracy.append(np.average(valAcc))\n",
        "  iter_loss_tr.append(np.average(training_loss))\n",
        "  iter_loss_val.append(np.average(validation_loss))\n",
        "  iter_acc_tr.append(np.average(training_accuracy))\n",
        "  iter_acc_val.append(np.average(validation_accuracy))\n",
        "\n"
      ],
      "execution_count": 22,
      "outputs": []
    },
    {
      "cell_type": "code",
      "metadata": {
        "id": "K1qHpH_EW49Q",
        "outputId": "c4275105-1387-4a78-e881-3fbdd910908f",
        "colab": {
          "base_uri": "https://localhost:8080/",
          "height": 279
        }
      },
      "source": [
        "Nsteps = 30\n",
        "from statistics import stdev\n",
        "\n",
        "t = np.arange(Nsteps)\n",
        "\n",
        "mu = np.average(iter_loss_tr)\n",
        "sigma = stdev(iter_loss_tr)\n",
        "\n",
        "# the steps and position\n",
        "S = mu + sigma*np.random.randn(Nsteps)\n",
        "X = S.cumsum()\n",
        "\n",
        "# the 1 sigma upper and lower analytic population bounds\n",
        "lower_bound = mu*t - sigma*np.sqrt(t)\n",
        "upper_bound = mu*t + sigma*np.sqrt(t)\n",
        "\n",
        "fig, ax = plt.subplots(1)\n",
        "ax.plot(t, X, lw=2, label='walker position', color='blue')\n",
        "ax.plot(t, mu*t, lw=1, label='population mean', color='black', ls='--')\n",
        "ax.fill_between(t, lower_bound, upper_bound, facecolor='yellow', alpha=0.5,\n",
        "                label='1 sigma range')\n",
        "ax.legend(loc='upper left')\n",
        "\n",
        "# here we use the where argument to only fill the region where the\n",
        "# walker is above the population 1 sigma boundary\n",
        "ax.fill_between(t, upper_bound, X, where=X > upper_bound, facecolor='blue',\n",
        "                alpha=0.5)\n",
        "ax.set_xlabel('num steps')\n",
        "ax.set_ylabel('position')\n",
        "ax.grid()\n"
      ],
      "execution_count": 23,
      "outputs": [
        {
          "output_type": "display_data",
          "data": {
            "image/png": "[encoded data removed]",
            "text/plain": [
              "<Figure size 432x288 with 1 Axes>"
            ]
          },
          "metadata": {
            "tags": [],
            "needs_background": "light"
          }
        }
      ]
    },
    {
      "cell_type": "code",
      "metadata": {
        "id": "FmKm9aNlwikY",
        "outputId": "1efdd870-73f0-48d3-fd9f-d5a13263e0b1",
        "colab": {
          "base_uri": "https://localhost:8080/",
          "height": 279
        }
      },
      "source": [
        "Nsteps = 30\n",
        "from statistics import stdev\n",
        "\n",
        "t = np.arange(Nsteps)\n",
        "\n",
        "mu = np.average(iter_acc_tr)\n",
        "sigma = stdev(iter_acc_tr)\n",
        "\n",
        "# the steps and position\n",
        "S = mu + sigma*np.random.randn(Nsteps)\n",
        "X = S.cumsum()\n",
        "\n",
        "# the 1 sigma upper and lower analytic population bounds\n",
        "lower_bound = mu*t - sigma*np.sqrt(t)\n",
        "upper_bound = mu*t + sigma*np.sqrt(t)\n",
        "\n",
        "fig, ax = plt.subplots(1)\n",
        "ax.plot(t, X, lw=2, label='walker position', color='blue')\n",
        "ax.plot(t, mu*t, lw=1, label='population mean', color='black', ls='--')\n",
        "ax.fill_between(t, lower_bound, upper_bound, facecolor='yellow', alpha=0.5,\n",
        "                label='1 sigma range')\n",
        "ax.legend(loc='upper left')\n",
        "\n",
        "# here we use the where argument to only fill the region where the\n",
        "# walker is above the population 1 sigma boundary\n",
        "ax.fill_between(t, upper_bound, X, where=X > upper_bound, facecolor='blue',\n",
        "                alpha=0.5)\n",
        "ax.set_xlabel('num steps')\n",
        "ax.set_ylabel('position')\n",
        "ax.grid()\n"
      ],
      "execution_count": 24,
      "outputs": [
        {
          "output_type": "display_data",
          "data": {
            "image/png": "[encoded data removed]",
            "text/plain": [
              "<Figure size 432x288 with 1 Axes>"
            ]
          },
          "metadata": {
            "tags": [],
            "needs_background": "light"
          }
        }
      ]
    },
    {
      "cell_type": "code",
      "metadata": {
        "id": "xEMtjNe_bEfn",
        "outputId": "fcb2394f-15a3-47c7-a44d-f9a878467bdc",
        "colab": {
          "base_uri": "https://localhost:8080/",
          "height": 297
        }
      },
      "source": [
        "from statistics import stdev\n",
        "Nsteps, Nwalkers = 100, 250\n",
        "# nstesp = iteration_no, \n",
        "t = np.arange(Nsteps)\n",
        "\n",
        "mu1 = np.average(iter_acc_tr)\n",
        "mu2 = np.average(iter_acc_val)\n",
        "sd1 = stdev(iter_acc_tr)\n",
        "sd2 = stdev(iter_acc_val)\n",
        "\n",
        "# an (Nsteps x Nwalkers) array of random walk steps\n",
        "S1 = mu1 + sd1*np.random.randn(Nsteps, Nwalkers)\n",
        "S2 = mu2 + sd2*np.random.randn(Nsteps, Nwalkers)\n",
        "\n",
        "# an (Nsteps x Nwalkers) array of random walker positions\n",
        "X1 = S1.cumsum(axis=0)\n",
        "X2 = S2.cumsum(axis=0)\n",
        "\n",
        "\n",
        "# Nsteps length arrays empirical means and standard deviations of both\n",
        "# populations over time\n",
        "mu1 = X1.mean(axis=1)\n",
        "sigma1 = X1.std(axis=1)\n",
        "mu2 = X2.mean(axis=1)\n",
        "sigma2 = X2.std(axis=1)\n",
        "\n",
        "# plot it!\n",
        "fig, ax = plt.subplots(1)\n",
        "ax.plot(t, mu1, lw=2, label='Training Accuracy', color='blue')\n",
        "ax.plot(t, mu2, lw=2, label='Validation Accuracy', color='yellow')\n",
        "ax.fill_between(t, mu1+sigma1, mu1-sigma1, facecolor='blue', alpha=0.5)\n",
        "ax.fill_between(t, mu2+sigma2, mu2-sigma2, facecolor='yellow', alpha=0.5)\n",
        "ax.set_title(r'random walkers empirical $\\mu$ and $\\pm \\sigma$ interval')\n",
        "ax.legend(loc='upper left')\n",
        "ax.set_xlabel('num steps')\n",
        "ax.set_ylabel('position')\n",
        "ax.grid()"
      ],
      "execution_count": 25,
      "outputs": [
        {
          "output_type": "display_data",
          "data": {
            "image/png": "[encoded data removed]",
            "text/plain": [
              "<Figure size 432x288 with 1 Axes>"
            ]
          },
          "metadata": {
            "tags": [],
            "needs_background": "light"
          }
        }
      ]
    },
    {
      "cell_type": "markdown",
      "metadata": {
        "id": "vzwnYLdgTWFu"
      },
      "source": [
        "## 3.3 Different learning rates"
      ]
    },
    {
      "cell_type": "code",
      "metadata": {
        "id": "Ccmg8BQXcB-5"
      },
      "source": [
        "# Setting up the network \n",
        "\n",
        "learning_rates = [0.0001, 0.01, 0.05]\n",
        "\n",
        "iter_loss_tr = []\n",
        "iter_loss_val = []\n",
        "iter_acc_tr = []\n",
        "iter_acc_val = []\n",
        "\n",
        "for lr in learning_rates:\n",
        "  input_layer = layer(neuron_no=300, input_size=784)\n",
        "  output_layer = layer(neuron_no=10, input_size=300)\n",
        "\n",
        "  # lr = 0.01 \n",
        "  epochs = 5\n",
        "  batch_size = 50\n",
        "  training_loss = []\n",
        "  validation_loss = []\n",
        "  training_accuracy = []\n",
        "  validation_accuracy = []\n",
        "\n",
        "\n",
        "  for epoch in np.arange(0, epochs):\n",
        "    trainLoss = []\n",
        "    trainAcc = []\n",
        "    valLoss = []\n",
        "    valAcc = []\n",
        "    for (miniX, miniY) in mini_batch(x_train, t_train_hot, batch_size):\n",
        "\n",
        "      # Forward Pass\n",
        "      input_layer.forward_pass(inputs=miniX, activation='sigmoid')\n",
        "      output_layer.forward_pass(inputs=input_layer.activation_output, \n",
        "                              activation='softmax')\n",
        "      # Calculate Loss \n",
        "      loss = log_loss(output_layer.activation_output, miniY)\n",
        "      # loss = np.sum(err ** 2)\n",
        "      trainLoss.append(loss)\n",
        "      \n",
        "      predictions = np.argmax(output_layer.activation_output, axis=1)\n",
        "      if len(miniY.shape) == 2:\n",
        "          y = np.argmax(miniY, axis=1)\n",
        "      accuracy = np.mean(predictions==y)\n",
        "      trainAcc.append(accuracy)\n",
        "\n",
        "      # Backward pass \n",
        "      dL = gradient_loss(output_layer.activation_output, miniY)\n",
        "      output_layer.backward_pass(dL)\n",
        "      d_sig = gradient_sigmoid(input_layer, output_layer.grads)\n",
        "      # print(d_sig)\n",
        "      input_layer.backward_pass(d_sig)\n",
        "\n",
        "      # update weights and biases \n",
        "      optimizer(input_layer, lr)\n",
        "      optimizer(output_layer, lr)\n",
        "    for (miniX, miniY) in mini_batch(x_test, t_test_hot, batch_size):\n",
        "\n",
        "      # Forward Pass\n",
        "      input_layer.forward_pass(inputs=miniX, activation='sigmoid')\n",
        "      output_layer.forward_pass(inputs=input_layer.activation_output, \n",
        "                              activation='softmax')\n",
        "      # Calculate Loss \n",
        "      loss = log_loss(output_layer.activation_output, miniY)\n",
        "      # loss = np.sum(err ** 2)\n",
        "      valLoss.append(loss)\n",
        "\n",
        "      predictions = np.argmax(output_layer.activation_output, axis=1)\n",
        "      if len(miniY.shape) == 2:\n",
        "          y = np.argmax(miniY, axis=1)\n",
        "      accuracy = np.mean(predictions==y)\n",
        "      valAcc.append(accuracy)\n",
        "\n",
        "    # print('epoch',epoch,'train loss:', np.average(trainLoss), \"Val loss:\", np.average(valLoss))\n",
        "    # print(f'epoch {epoch}, train loss: {np.average(trainLoss):.3f}, val loss:{np.average(valLoss):.3f}, train acc:{np.average(trainAcc):.3f}, val acc:{np.average(valAcc):.3f}')\n",
        "    training_loss.append(np.average(trainLoss))\n",
        "    validation_loss.append(np.average(valLoss))\n",
        "    training_accuracy.append(np.average(trainAcc))\n",
        "    validation_accuracy.append(np.average(valAcc))\n",
        "  iter_loss_tr.append(training_loss)\n",
        "  iter_loss_val.append(validation_loss)\n",
        "  iter_acc_tr.append(training_accuracy)\n",
        "  iter_acc_val.append(validation_accuracy)"
      ],
      "execution_count": 167,
      "outputs": []
    },
    {
      "cell_type": "code",
      "metadata": {
        "id": "LRg7WGI7mxcu",
        "outputId": "abc85115-1775-470e-898c-7808ce991034",
        "colab": {
          "base_uri": "https://localhost:8080/",
          "height": 281
        }
      },
      "source": [
        "plt.title('Training Accuracy in different learning rate')\n",
        "plt.plot(iter_acc_tr[0], color='g', label='0.0001' )\n",
        "plt.plot(iter_acc_tr[1], linewidth=2, color='r', label='0.01')\n",
        "plt.plot(iter_acc_tr[2], linewidth=2, color='b', label='0.05')\n",
        "plt.legend()\n",
        "plt.grid()\n",
        "plt.show()"
      ],
      "execution_count": 176,
      "outputs": [
        {
          "output_type": "display_data",
          "data": {
            "image/png": "[encoded data removed]",
            "text/plain": [
              "<Figure size 432x288 with 1 Axes>"
            ]
          },
          "metadata": {
            "tags": [],
            "needs_background": "light"
          }
        }
      ]
    },
    {
      "cell_type": "code",
      "metadata": {
        "id": "h-32nJnGeIAE",
        "outputId": "9994d19e-8781-474f-8cf3-482d53cf97dc",
        "colab": {
          "base_uri": "https://localhost:8080/",
          "height": 281
        }
      },
      "source": [
        "plt.title('Validation Accuracy in different learning rate')\n",
        "plt.plot(iter_acc_val[0], color='g', label='0.0001' )\n",
        "plt.plot(iter_acc_val[1], linewidth=2, color='r', label='0.01')\n",
        "plt.plot(iter_acc_val[2], linewidth=2, color='b', label='0.05')\n",
        "plt.legend()\n",
        "plt.grid()\n",
        "plt.show()"
      ],
      "execution_count": 175,
      "outputs": [
        {
          "output_type": "display_data",
          "data": {
            "image/png": "[encoded data removed]",
            "text/plain": [
              "<Figure size 432x288 with 1 Axes>"
            ]
          },
          "metadata": {
            "tags": [],
            "needs_background": "light"
          }
        }
      ]
    },
    {
      "cell_type": "code",
      "metadata": {
        "id": "VbM3RW16eKQ1",
        "outputId": "28cd18df-4673-4756-ffeb-bc6e8a3d4ad2",
        "colab": {
          "base_uri": "https://localhost:8080/",
          "height": 281
        }
      },
      "source": [
        "plt.title('Training Loss in different learning rate')\n",
        "plt.plot(iter_loss_tr[0], color='g', label='0.0001' )\n",
        "plt.plot(iter_loss_tr[1], linewidth=2, color='r', label='0.01')\n",
        "plt.plot(iter_loss_tr[2], linewidth=2, color='b', label='0.05')\n",
        "plt.legend()\n",
        "plt.grid()\n",
        "plt.show()"
      ],
      "execution_count": 174,
      "outputs": [
        {
          "output_type": "display_data",
          "data": {
            "image/png": "[encoded data removed]",
            "text/plain": [
              "<Figure size 432x288 with 1 Axes>"
            ]
          },
          "metadata": {
            "tags": [],
            "needs_background": "light"
          }
        }
      ]
    },
    {
      "cell_type": "code",
      "metadata": {
        "id": "5pR_tZAtfmZj",
        "outputId": "6f076f4b-da3f-49f5-a615-f066e644b963",
        "colab": {
          "base_uri": "https://localhost:8080/",
          "height": 281
        }
      },
      "source": [
        "plt.title('Validation Loss in different learning rate')\n",
        "plt.plot(iter_loss_tr[0], color='g', label='0.0001' )\n",
        "plt.plot(iter_loss_tr[1], linewidth=2, color='r', label='0.01')\n",
        "plt.plot(iter_loss_tr[2], linewidth=2, color='b', label='0.04')\n",
        "plt.legend()\n",
        "plt.grid()\n",
        "plt.show()"
      ],
      "execution_count": 171,
      "outputs": [
        {
          "output_type": "display_data",
          "data": {
            "image/png": "[encoded data removed]",
            "text/plain": [
              "<Figure size 432x288 with 1 Axes>"
            ]
          },
          "metadata": {
            "tags": [],
            "needs_background": "light"
          }
        }
      ]
    },
    {
      "cell_type": "markdown",
      "metadata": {
        "id": "Ocq2ueqwgk8p"
      },
      "source": [
        "## 3.4 Final run"
      ]
    },
    {
      "cell_type": "code",
      "metadata": {
        "id": "rIW5wKJtgo1L"
      },
      "source": [
        "def load_mnist(final=True, flatten=True):\n",
        "\n",
        "    if not os.path.isfile('mnist.pkl'):\n",
        "        init()\n",
        "\n",
        "    xtrain, ytrain, xtest, ytest = load()\n",
        "    xtl, xsl = xtrain.shape[0], xtest.shape[0]\n",
        "\n",
        "    if flatten:\n",
        "        xtrain = xtrain.reshape(xtl, -1)\n",
        "        xtest  = xtest.reshape(xsl, -1)\n",
        "\n",
        "    if not final: # return the flattened images\n",
        "        return (xtrain[:-5000], ytrain[:-5000]), (xtrain[-5000:], ytrain[-5000:]), 10\n",
        "\n",
        "    return (xtrain, ytrain), (xtest, ytest), 10\n",
        "\n",
        "(x_train, t_train), (x_test,t_test), cls = load_mnist()\n",
        "x_train = np.array(x_train)\n",
        "t_train = np.array(t_train)\n",
        "x_test = np.array(x_test)\n",
        "t_test = np.array(t_test)\n",
        "x_train = x_train.astype(np.float32)\n",
        "x_test = x_test.astype(np.float32)\n",
        "x_train = x_train/255.\n",
        "x_test = x_test/255.\n",
        "t_train_hot = convertToOneHot(t_train)\n",
        "t_test_hot = convertToOneHot(t_test)\n"
      ],
      "execution_count": 177,
      "outputs": []
    },
    {
      "cell_type": "code",
      "metadata": {
        "id": "2kbqoUPm8mL5",
        "outputId": "f53b17c2-3b6d-452d-a4f8-14a904d3cd43",
        "colab": {
          "base_uri": "https://localhost:8080/"
        }
      },
      "source": [
        "t_train_hot.shape"
      ],
      "execution_count": 183,
      "outputs": [
        {
          "output_type": "execute_result",
          "data": {
            "text/plain": [
              "(60000, 10)"
            ]
          },
          "metadata": {
            "tags": []
          },
          "execution_count": 183
        }
      ]
    },
    {
      "cell_type": "code",
      "metadata": {
        "id": "Tczq3cHyfp9k",
        "outputId": "50d6c21d-c8d4-4ff7-8bae-7c87a30ac8d2",
        "colab": {
          "base_uri": "https://localhost:8080/"
        }
      },
      "source": [
        "lr = 0.01 \n",
        "epochs = 10\n",
        "batch_size = 50\n",
        "training_loss = []\n",
        "validation_loss = []\n",
        "training_accuracy = []\n",
        "validation_accuracy = []\n",
        "\n",
        "# Setting up the network \n",
        "input_layer = layer(neuron_no=300, input_size=784)\n",
        "output_layer = layer(neuron_no=10, input_size=300)\n",
        "\n",
        "for epoch in np.arange(0, epochs):\n",
        "  trainLoss = []\n",
        "  trainAcc = []\n",
        "  valLoss = []\n",
        "  valAcc = []\n",
        "  for (miniX, miniY) in mini_batch(x_train, t_train_hot, batch_size):\n",
        "\n",
        "    # Forward Pass\n",
        "    input_layer.forward_pass(inputs=miniX, activation='sigmoid')\n",
        "    output_layer.forward_pass(inputs=input_layer.activation_output, \n",
        "                             activation='softmax')\n",
        "    # Calculate Loss \n",
        "    loss = log_loss(output_layer.activation_output, miniY)\n",
        "    # loss = np.sum(err ** 2)\n",
        "    trainLoss.append(loss)\n",
        "    \n",
        "    predictions = np.argmax(output_layer.activation_output, axis=1)\n",
        "    if len(miniY.shape) == 2:\n",
        "        y = np.argmax(miniY, axis=1)\n",
        "    accuracy = np.mean(predictions==y)\n",
        "    trainAcc.append(accuracy)\n",
        "\n",
        "    # Backward pass \n",
        "    dL = gradient_loss(output_layer.activation_output, miniY)\n",
        "    output_layer.backward_pass(dL)\n",
        "    d_sig = gradient_sigmoid(input_layer, output_layer.grads)\n",
        "    # print(d_sig)\n",
        "    input_layer.backward_pass(d_sig)\n",
        "\n",
        "    # update weights and biases \n",
        "    optimizer(input_layer, lr)\n",
        "    optimizer(output_layer, lr)\n",
        "  for (miniX, miniY) in mini_batch(x_test, t_test_hot, batch_size):\n",
        "\n",
        "    # Forward Pass\n",
        "    input_layer.forward_pass(inputs=miniX, activation='sigmoid')\n",
        "    output_layer.forward_pass(inputs=input_layer.activation_output, \n",
        "                             activation='softmax')\n",
        "    # Calculate Loss \n",
        "    loss = log_loss(output_layer.activation_output, miniY)\n",
        "    # loss = np.sum(err ** 2)\n",
        "    valLoss.append(loss)\n",
        "\n",
        "    predictions = np.argmax(output_layer.activation_output, axis=1)\n",
        "    if len(miniY.shape) == 2:\n",
        "        y = np.argmax(miniY, axis=1)\n",
        "    accuracy = np.mean(predictions==y)\n",
        "    valAcc.append(accuracy)\n",
        "\n",
        "  # print('epoch',epoch,'train loss:', np.average(trainLoss), \"Val loss:\", np.average(valLoss))\n",
        "  print(f'epoch {epoch}, train loss: {np.average(trainLoss):.3f}, val loss:{np.average(valLoss):.3f}, train acc:{np.average(trainAcc):.3f}, val acc:{np.average(valAcc):.3f}')\n",
        "  training_loss.append(np.average(trainLoss))\n",
        "  validation_loss.append(np.average(valLoss))\n",
        "  training_accuracy.append(np.average(trainAcc))\n",
        "  validation_accuracy.append(np.average(valAcc))\n",
        "\n"
      ],
      "execution_count": 178,
      "outputs": [
        {
          "output_type": "stream",
          "text": [
            "epoch 0, train loss: 0.388, val loss:0.251, train acc:0.889, val acc:0.926\n",
            "epoch 1, train loss: 0.204, val loss:0.183, train acc:0.941, val acc:0.945\n",
            "epoch 2, train loss: 0.150, val loss:0.143, train acc:0.957, val acc:0.957\n",
            "epoch 3, train loss: 0.117, val loss:0.120, train acc:0.966, val acc:0.965\n",
            "epoch 4, train loss: 0.096, val loss:0.105, train acc:0.972, val acc:0.968\n",
            "epoch 5, train loss: 0.080, val loss:0.095, train acc:0.977, val acc:0.970\n",
            "epoch 6, train loss: 0.069, val loss:0.088, train acc:0.981, val acc:0.973\n",
            "epoch 7, train loss: 0.060, val loss:0.083, train acc:0.984, val acc:0.974\n",
            "epoch 8, train loss: 0.052, val loss:0.079, train acc:0.986, val acc:0.975\n",
            "epoch 9, train loss: 0.046, val loss:0.076, train acc:0.988, val acc:0.975\n"
          ],
          "name": "stdout"
        }
      ]
    },
    {
      "cell_type": "code",
      "metadata": {
        "id": "XVYvqWEYgzRV",
        "outputId": "f98375c8-9a3a-4dc9-861d-14cb458f1d0d",
        "colab": {
          "base_uri": "https://localhost:8080/",
          "height": 281
        }
      },
      "source": [
        "plt.title('Training vs Validation loss')\n",
        "plt.plot(training_loss, color='g', label='train' )\n",
        "plt.plot(validation_loss, linewidth=2, color='r', label='val')\n",
        "plt.legend()\n",
        "plt.grid()\n",
        "plt.show()"
      ],
      "execution_count": 179,
      "outputs": [
        {
          "output_type": "display_data",
          "data": {
            "image/png": "[encoded data removed]",
            "text/plain": [
              "<Figure size 432x288 with 1 Axes>"
            ]
          },
          "metadata": {
            "tags": [],
            "needs_background": "light"
          }
        }
      ]
    },
    {
      "cell_type": "code",
      "metadata": {
        "id": "yHY7PPKkg7W7",
        "outputId": "2b2be517-9497-431b-fa5c-cb809ca9810b",
        "colab": {
          "base_uri": "https://localhost:8080/",
          "height": 281
        }
      },
      "source": [
        "plt.title('Training vs Validation Accuracy')\n",
        "plt.plot(training_accuracy,color='g', label='train')\n",
        "plt.plot(validation_accuracy,linewidth=2, color='r', label='val')\n",
        "plt.legend()\n",
        "plt.grid()\n",
        "plt.show()"
      ],
      "execution_count": 180,
      "outputs": [
        {
          "output_type": "display_data",
          "data": {
            "image/png": "[encoded data removed]",
            "text/plain": [
              "<Figure size 432x288 with 1 Axes>"
            ]
          },
          "metadata": {
            "tags": [],
            "needs_background": "light"
          }
        }
      ]
    },
    {
      "cell_type": "code",
      "metadata": {
        "id": "byWfbZWtpUMz"
      },
      "source": [
        ""
      ],
      "execution_count": null,
      "outputs": []
    }
  ]
}