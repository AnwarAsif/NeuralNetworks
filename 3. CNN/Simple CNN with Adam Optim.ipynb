{
  "nbformat": 4,
  "nbformat_minor": 0,
  "metadata": {
    "accelerator": "TPU",
    "colab": {
      "name": "DL Assignment 3 Final",
      "provenance": [],
      "collapsed_sections": []
    },
    "kernelspec": {
      "display_name": "Python 3",
      "name": "python3"
    },
    "widgets": {
      "application/vnd.jupyter.widget-state+json": {
        "8febdc85456946f59d35151894d7bec1": {
          "model_module": "@jupyter-widgets/controls",
          "model_name": "HBoxModel",
          "state": {
            "_view_name": "HBoxView",
            "_dom_classes": [],
            "_model_name": "HBoxModel",
            "_view_module": "@jupyter-widgets/controls",
            "_model_module_version": "1.5.0",
            "_view_count": null,
            "_view_module_version": "1.5.0",
            "box_style": "",
            "layout": "IPY_MODEL_ccbecae99e094d0f9b39aeea709d0cd8",
            "_model_module": "@jupyter-widgets/controls",
            "children": [
              "IPY_MODEL_c4350eec7c3746acb714ee3a6a294416",
              "IPY_MODEL_a0403a150e9948d881d0c56bd39693ab"
            ]
          }
        },
        "ccbecae99e094d0f9b39aeea709d0cd8": {
          "model_module": "@jupyter-widgets/base",
          "model_name": "LayoutModel",
          "state": {
            "_view_name": "LayoutView",
            "grid_template_rows": null,
            "right": null,
            "justify_content": null,
            "_view_module": "@jupyter-widgets/base",
            "overflow": null,
            "_model_module_version": "1.2.0",
            "_view_count": null,
            "flex_flow": null,
            "width": null,
            "min_width": null,
            "border": null,
            "align_items": null,
            "bottom": null,
            "_model_module": "@jupyter-widgets/base",
            "top": null,
            "grid_column": null,
            "overflow_y": null,
            "overflow_x": null,
            "grid_auto_flow": null,
            "grid_area": null,
            "grid_template_columns": null,
            "flex": null,
            "_model_name": "LayoutModel",
            "justify_items": null,
            "grid_row": null,
            "max_height": null,
            "align_content": null,
            "visibility": null,
            "align_self": null,
            "height": null,
            "min_height": null,
            "padding": null,
            "grid_auto_rows": null,
            "grid_gap": null,
            "max_width": null,
            "order": null,
            "_view_module_version": "1.2.0",
            "grid_template_areas": null,
            "object_position": null,
            "object_fit": null,
            "grid_auto_columns": null,
            "margin": null,
            "display": null,
            "left": null
          }
        },
        "c4350eec7c3746acb714ee3a6a294416": {
          "model_module": "@jupyter-widgets/controls",
          "model_name": "FloatProgressModel",
          "state": {
            "_view_name": "ProgressView",
            "style": "IPY_MODEL_0611a9eed3bb4061a4f180fe493a1ccf",
            "_dom_classes": [],
            "description": "",
            "_model_name": "FloatProgressModel",
            "bar_style": "info",
            "max": 1,
            "_view_module": "@jupyter-widgets/controls",
            "_model_module_version": "1.5.0",
            "value": 1,
            "_view_count": null,
            "_view_module_version": "1.5.0",
            "orientation": "horizontal",
            "min": 0,
            "description_tooltip": null,
            "_model_module": "@jupyter-widgets/controls",
            "layout": "IPY_MODEL_6f7129b55a95461b82402b45efdaa460"
          }
        },
        "a0403a150e9948d881d0c56bd39693ab": {
          "model_module": "@jupyter-widgets/controls",
          "model_name": "HTMLModel",
          "state": {
            "_view_name": "HTMLView",
            "style": "IPY_MODEL_221650504d3d48c3819b744d7537dfbe",
            "_dom_classes": [],
            "description": "",
            "_model_name": "HTMLModel",
            "placeholder": "​",
            "_view_module": "@jupyter-widgets/controls",
            "_model_module_version": "1.5.0",
            "value": " 9920512/? [00:19&lt;00:00, 2789709.77it/s]",
            "_view_count": null,
            "_view_module_version": "1.5.0",
            "description_tooltip": null,
            "_model_module": "@jupyter-widgets/controls",
            "layout": "IPY_MODEL_d59061b76f654e3388d7da60eb5a39be"
          }
        },
        "0611a9eed3bb4061a4f180fe493a1ccf": {
          "model_module": "@jupyter-widgets/controls",
          "model_name": "ProgressStyleModel",
          "state": {
            "_view_name": "StyleView",
            "_model_name": "ProgressStyleModel",
            "description_width": "initial",
            "_view_module": "@jupyter-widgets/base",
            "_model_module_version": "1.5.0",
            "_view_count": null,
            "_view_module_version": "1.2.0",
            "bar_color": null,
            "_model_module": "@jupyter-widgets/controls"
          }
        },
        "6f7129b55a95461b82402b45efdaa460": {
          "model_module": "@jupyter-widgets/base",
          "model_name": "LayoutModel",
          "state": {
            "_view_name": "LayoutView",
            "grid_template_rows": null,
            "right": null,
            "justify_content": null,
            "_view_module": "@jupyter-widgets/base",
            "overflow": null,
            "_model_module_version": "1.2.0",
            "_view_count": null,
            "flex_flow": null,
            "width": null,
            "min_width": null,
            "border": null,
            "align_items": null,
            "bottom": null,
            "_model_module": "@jupyter-widgets/base",
            "top": null,
            "grid_column": null,
            "overflow_y": null,
            "overflow_x": null,
            "grid_auto_flow": null,
            "grid_area": null,
            "grid_template_columns": null,
            "flex": null,
            "_model_name": "LayoutModel",
            "justify_items": null,
            "grid_row": null,
            "max_height": null,
            "align_content": null,
            "visibility": null,
            "align_self": null,
            "height": null,
            "min_height": null,
            "padding": null,
            "grid_auto_rows": null,
            "grid_gap": null,
            "max_width": null,
            "order": null,
            "_view_module_version": "1.2.0",
            "grid_template_areas": null,
            "object_position": null,
            "object_fit": null,
            "grid_auto_columns": null,
            "margin": null,
            "display": null,
            "left": null
          }
        },
        "221650504d3d48c3819b744d7537dfbe": {
          "model_module": "@jupyter-widgets/controls",
          "model_name": "DescriptionStyleModel",
          "state": {
            "_view_name": "StyleView",
            "_model_name": "DescriptionStyleModel",
            "description_width": "",
            "_view_module": "@jupyter-widgets/base",
            "_model_module_version": "1.5.0",
            "_view_count": null,
            "_view_module_version": "1.2.0",
            "_model_module": "@jupyter-widgets/controls"
          }
        },
        "d59061b76f654e3388d7da60eb5a39be": {
          "model_module": "@jupyter-widgets/base",
          "model_name": "LayoutModel",
          "state": {
            "_view_name": "LayoutView",
            "grid_template_rows": null,
            "right": null,
            "justify_content": null,
            "_view_module": "@jupyter-widgets/base",
            "overflow": null,
            "_model_module_version": "1.2.0",
            "_view_count": null,
            "flex_flow": null,
            "width": null,
            "min_width": null,
            "border": null,
            "align_items": null,
            "bottom": null,
            "_model_module": "@jupyter-widgets/base",
            "top": null,
            "grid_column": null,
            "overflow_y": null,
            "overflow_x": null,
            "grid_auto_flow": null,
            "grid_area": null,
            "grid_template_columns": null,
            "flex": null,
            "_model_name": "LayoutModel",
            "justify_items": null,
            "grid_row": null,
            "max_height": null,
            "align_content": null,
            "visibility": null,
            "align_self": null,
            "height": null,
            "min_height": null,
            "padding": null,
            "grid_auto_rows": null,
            "grid_gap": null,
            "max_width": null,
            "order": null,
            "_view_module_version": "1.2.0",
            "grid_template_areas": null,
            "object_position": null,
            "object_fit": null,
            "grid_auto_columns": null,
            "margin": null,
            "display": null,
            "left": null
          }
        },
        "b5ba85b2fa1846dc88bef67ab4e2b834": {
          "model_module": "@jupyter-widgets/controls",
          "model_name": "HBoxModel",
          "state": {
            "_view_name": "HBoxView",
            "_dom_classes": [],
            "_model_name": "HBoxModel",
            "_view_module": "@jupyter-widgets/controls",
            "_model_module_version": "1.5.0",
            "_view_count": null,
            "_view_module_version": "1.5.0",
            "box_style": "",
            "layout": "IPY_MODEL_7a1ffd80896f44a898f0ca9757c7992a",
            "_model_module": "@jupyter-widgets/controls",
            "children": [
              "IPY_MODEL_8a1d337df7ca44f3a692a4b0666c3b8d",
              "IPY_MODEL_3b5c6c66455a4b12b8dc0de0451ffcf7"
            ]
          }
        },
        "7a1ffd80896f44a898f0ca9757c7992a": {
          "model_module": "@jupyter-widgets/base",
          "model_name": "LayoutModel",
          "state": {
            "_view_name": "LayoutView",
            "grid_template_rows": null,
            "right": null,
            "justify_content": null,
            "_view_module": "@jupyter-widgets/base",
            "overflow": null,
            "_model_module_version": "1.2.0",
            "_view_count": null,
            "flex_flow": null,
            "width": null,
            "min_width": null,
            "border": null,
            "align_items": null,
            "bottom": null,
            "_model_module": "@jupyter-widgets/base",
            "top": null,
            "grid_column": null,
            "overflow_y": null,
            "overflow_x": null,
            "grid_auto_flow": null,
            "grid_area": null,
            "grid_template_columns": null,
            "flex": null,
            "_model_name": "LayoutModel",
            "justify_items": null,
            "grid_row": null,
            "max_height": null,
            "align_content": null,
            "visibility": null,
            "align_self": null,
            "height": null,
            "min_height": null,
            "padding": null,
            "grid_auto_rows": null,
            "grid_gap": null,
            "max_width": null,
            "order": null,
            "_view_module_version": "1.2.0",
            "grid_template_areas": null,
            "object_position": null,
            "object_fit": null,
            "grid_auto_columns": null,
            "margin": null,
            "display": null,
            "left": null
          }
        },
        "8a1d337df7ca44f3a692a4b0666c3b8d": {
          "model_module": "@jupyter-widgets/controls",
          "model_name": "FloatProgressModel",
          "state": {
            "_view_name": "ProgressView",
            "style": "IPY_MODEL_0f4f4b0aed9c45cea169231c01621d66",
            "_dom_classes": [],
            "description": "",
            "_model_name": "FloatProgressModel",
            "bar_style": "success",
            "max": 1,
            "_view_module": "@jupyter-widgets/controls",
            "_model_module_version": "1.5.0",
            "value": 1,
            "_view_count": null,
            "_view_module_version": "1.5.0",
            "orientation": "horizontal",
            "min": 0,
            "description_tooltip": null,
            "_model_module": "@jupyter-widgets/controls",
            "layout": "IPY_MODEL_2bd637c1a97f41ddb0f2a2182b5b00bd"
          }
        },
        "3b5c6c66455a4b12b8dc0de0451ffcf7": {
          "model_module": "@jupyter-widgets/controls",
          "model_name": "HTMLModel",
          "state": {
            "_view_name": "HTMLView",
            "style": "IPY_MODEL_2b6b9ae3db9e44909b1abf7492529be7",
            "_dom_classes": [],
            "description": "",
            "_model_name": "HTMLModel",
            "placeholder": "​",
            "_view_module": "@jupyter-widgets/controls",
            "_model_module_version": "1.5.0",
            "value": " 32768/? [00:00&lt;00:00, 50554.79it/s]",
            "_view_count": null,
            "_view_module_version": "1.5.0",
            "description_tooltip": null,
            "_model_module": "@jupyter-widgets/controls",
            "layout": "IPY_MODEL_4735d163c5fc4838bfed3063a64ebab7"
          }
        },
        "0f4f4b0aed9c45cea169231c01621d66": {
          "model_module": "@jupyter-widgets/controls",
          "model_name": "ProgressStyleModel",
          "state": {
            "_view_name": "StyleView",
            "_model_name": "ProgressStyleModel",
            "description_width": "initial",
            "_view_module": "@jupyter-widgets/base",
            "_model_module_version": "1.5.0",
            "_view_count": null,
            "_view_module_version": "1.2.0",
            "bar_color": null,
            "_model_module": "@jupyter-widgets/controls"
          }
        },
        "2bd637c1a97f41ddb0f2a2182b5b00bd": {
          "model_module": "@jupyter-widgets/base",
          "model_name": "LayoutModel",
          "state": {
            "_view_name": "LayoutView",
            "grid_template_rows": null,
            "right": null,
            "justify_content": null,
            "_view_module": "@jupyter-widgets/base",
            "overflow": null,
            "_model_module_version": "1.2.0",
            "_view_count": null,
            "flex_flow": null,
            "width": null,
            "min_width": null,
            "border": null,
            "align_items": null,
            "bottom": null,
            "_model_module": "@jupyter-widgets/base",
            "top": null,
            "grid_column": null,
            "overflow_y": null,
            "overflow_x": null,
            "grid_auto_flow": null,
            "grid_area": null,
            "grid_template_columns": null,
            "flex": null,
            "_model_name": "LayoutModel",
            "justify_items": null,
            "grid_row": null,
            "max_height": null,
            "align_content": null,
            "visibility": null,
            "align_self": null,
            "height": null,
            "min_height": null,
            "padding": null,
            "grid_auto_rows": null,
            "grid_gap": null,
            "max_width": null,
            "order": null,
            "_view_module_version": "1.2.0",
            "grid_template_areas": null,
            "object_position": null,
            "object_fit": null,
            "grid_auto_columns": null,
            "margin": null,
            "display": null,
            "left": null
          }
        },
        "2b6b9ae3db9e44909b1abf7492529be7": {
          "model_module": "@jupyter-widgets/controls",
          "model_name": "DescriptionStyleModel",
          "state": {
            "_view_name": "StyleView",
            "_model_name": "DescriptionStyleModel",
            "description_width": "",
            "_view_module": "@jupyter-widgets/base",
            "_model_module_version": "1.5.0",
            "_view_count": null,
            "_view_module_version": "1.2.0",
            "_model_module": "@jupyter-widgets/controls"
          }
        },
        "4735d163c5fc4838bfed3063a64ebab7": {
          "model_module": "@jupyter-widgets/base",
          "model_name": "LayoutModel",
          "state": {
            "_view_name": "LayoutView",
            "grid_template_rows": null,
            "right": null,
            "justify_content": null,
            "_view_module": "@jupyter-widgets/base",
            "overflow": null,
            "_model_module_version": "1.2.0",
            "_view_count": null,
            "flex_flow": null,
            "width": null,
            "min_width": null,
            "border": null,
            "align_items": null,
            "bottom": null,
            "_model_module": "@jupyter-widgets/base",
            "top": null,
            "grid_column": null,
            "overflow_y": null,
            "overflow_x": null,
            "grid_auto_flow": null,
            "grid_area": null,
            "grid_template_columns": null,
            "flex": null,
            "_model_name": "LayoutModel",
            "justify_items": null,
            "grid_row": null,
            "max_height": null,
            "align_content": null,
            "visibility": null,
            "align_self": null,
            "height": null,
            "min_height": null,
            "padding": null,
            "grid_auto_rows": null,
            "grid_gap": null,
            "max_width": null,
            "order": null,
            "_view_module_version": "1.2.0",
            "grid_template_areas": null,
            "object_position": null,
            "object_fit": null,
            "grid_auto_columns": null,
            "margin": null,
            "display": null,
            "left": null
          }
        },
        "144a2e07e20e4b5a8f507537e1dbc9e2": {
          "model_module": "@jupyter-widgets/controls",
          "model_name": "HBoxModel",
          "state": {
            "_view_name": "HBoxView",
            "_dom_classes": [],
            "_model_name": "HBoxModel",
            "_view_module": "@jupyter-widgets/controls",
            "_model_module_version": "1.5.0",
            "_view_count": null,
            "_view_module_version": "1.5.0",
            "box_style": "",
            "layout": "IPY_MODEL_753dfd0450484137bdf4e2af5e1f007f",
            "_model_module": "@jupyter-widgets/controls",
            "children": [
              "IPY_MODEL_76a25bdfd4784fccaec14f63c6cea136",
              "IPY_MODEL_bb9a62abe99549f1aaa95c08f0eb39b4"
            ]
          }
        },
        "753dfd0450484137bdf4e2af5e1f007f": {
          "model_module": "@jupyter-widgets/base",
          "model_name": "LayoutModel",
          "state": {
            "_view_name": "LayoutView",
            "grid_template_rows": null,
            "right": null,
            "justify_content": null,
            "_view_module": "@jupyter-widgets/base",
            "overflow": null,
            "_model_module_version": "1.2.0",
            "_view_count": null,
            "flex_flow": null,
            "width": null,
            "min_width": null,
            "border": null,
            "align_items": null,
            "bottom": null,
            "_model_module": "@jupyter-widgets/base",
            "top": null,
            "grid_column": null,
            "overflow_y": null,
            "overflow_x": null,
            "grid_auto_flow": null,
            "grid_area": null,
            "grid_template_columns": null,
            "flex": null,
            "_model_name": "LayoutModel",
            "justify_items": null,
            "grid_row": null,
            "max_height": null,
            "align_content": null,
            "visibility": null,
            "align_self": null,
            "height": null,
            "min_height": null,
            "padding": null,
            "grid_auto_rows": null,
            "grid_gap": null,
            "max_width": null,
            "order": null,
            "_view_module_version": "1.2.0",
            "grid_template_areas": null,
            "object_position": null,
            "object_fit": null,
            "grid_auto_columns": null,
            "margin": null,
            "display": null,
            "left": null
          }
        },
        "76a25bdfd4784fccaec14f63c6cea136": {
          "model_module": "@jupyter-widgets/controls",
          "model_name": "FloatProgressModel",
          "state": {
            "_view_name": "ProgressView",
            "style": "IPY_MODEL_70d632b908ee4b8994fc4ab3e3ded05e",
            "_dom_classes": [],
            "description": "",
            "_model_name": "FloatProgressModel",
            "bar_style": "success",
            "max": 1,
            "_view_module": "@jupyter-widgets/controls",
            "_model_module_version": "1.5.0",
            "value": 1,
            "_view_count": null,
            "_view_module_version": "1.5.0",
            "orientation": "horizontal",
            "min": 0,
            "description_tooltip": null,
            "_model_module": "@jupyter-widgets/controls",
            "layout": "IPY_MODEL_ba4282b294ac4344828b85c21f6f0d8c"
          }
        },
        "bb9a62abe99549f1aaa95c08f0eb39b4": {
          "model_module": "@jupyter-widgets/controls",
          "model_name": "HTMLModel",
          "state": {
            "_view_name": "HTMLView",
            "style": "IPY_MODEL_61b2779360ae48f19938824fe3fd393c",
            "_dom_classes": [],
            "description": "",
            "_model_name": "HTMLModel",
            "placeholder": "​",
            "_view_module": "@jupyter-widgets/controls",
            "_model_module_version": "1.5.0",
            "value": " 1654784/? [00:00&lt;00:00, 3192955.17it/s]",
            "_view_count": null,
            "_view_module_version": "1.5.0",
            "description_tooltip": null,
            "_model_module": "@jupyter-widgets/controls",
            "layout": "IPY_MODEL_4ada05240b674208afbc3c2faade836f"
          }
        },
        "70d632b908ee4b8994fc4ab3e3ded05e": {
          "model_module": "@jupyter-widgets/controls",
          "model_name": "ProgressStyleModel",
          "state": {
            "_view_name": "StyleView",
            "_model_name": "ProgressStyleModel",
            "description_width": "initial",
            "_view_module": "@jupyter-widgets/base",
            "_model_module_version": "1.5.0",
            "_view_count": null,
            "_view_module_version": "1.2.0",
            "bar_color": null,
            "_model_module": "@jupyter-widgets/controls"
          }
        },
        "ba4282b294ac4344828b85c21f6f0d8c": {
          "model_module": "@jupyter-widgets/base",
          "model_name": "LayoutModel",
          "state": {
            "_view_name": "LayoutView",
            "grid_template_rows": null,
            "right": null,
            "justify_content": null,
            "_view_module": "@jupyter-widgets/base",
            "overflow": null,
            "_model_module_version": "1.2.0",
            "_view_count": null,
            "flex_flow": null,
            "width": null,
            "min_width": null,
            "border": null,
            "align_items": null,
            "bottom": null,
            "_model_module": "@jupyter-widgets/base",
            "top": null,
            "grid_column": null,
            "overflow_y": null,
            "overflow_x": null,
            "grid_auto_flow": null,
            "grid_area": null,
            "grid_template_columns": null,
            "flex": null,
            "_model_name": "LayoutModel",
            "justify_items": null,
            "grid_row": null,
            "max_height": null,
            "align_content": null,
            "visibility": null,
            "align_self": null,
            "height": null,
            "min_height": null,
            "padding": null,
            "grid_auto_rows": null,
            "grid_gap": null,
            "max_width": null,
            "order": null,
            "_view_module_version": "1.2.0",
            "grid_template_areas": null,
            "object_position": null,
            "object_fit": null,
            "grid_auto_columns": null,
            "margin": null,
            "display": null,
            "left": null
          }
        },
        "61b2779360ae48f19938824fe3fd393c": {
          "model_module": "@jupyter-widgets/controls",
          "model_name": "DescriptionStyleModel",
          "state": {
            "_view_name": "StyleView",
            "_model_name": "DescriptionStyleModel",
            "description_width": "",
            "_view_module": "@jupyter-widgets/base",
            "_model_module_version": "1.5.0",
            "_view_count": null,
            "_view_module_version": "1.2.0",
            "_model_module": "@jupyter-widgets/controls"
          }
        },
        "4ada05240b674208afbc3c2faade836f": {
          "model_module": "@jupyter-widgets/base",
          "model_name": "LayoutModel",
          "state": {
            "_view_name": "LayoutView",
            "grid_template_rows": null,
            "right": null,
            "justify_content": null,
            "_view_module": "@jupyter-widgets/base",
            "overflow": null,
            "_model_module_version": "1.2.0",
            "_view_count": null,
            "flex_flow": null,
            "width": null,
            "min_width": null,
            "border": null,
            "align_items": null,
            "bottom": null,
            "_model_module": "@jupyter-widgets/base",
            "top": null,
            "grid_column": null,
            "overflow_y": null,
            "overflow_x": null,
            "grid_auto_flow": null,
            "grid_area": null,
            "grid_template_columns": null,
            "flex": null,
            "_model_name": "LayoutModel",
            "justify_items": null,
            "grid_row": null,
            "max_height": null,
            "align_content": null,
            "visibility": null,
            "align_self": null,
            "height": null,
            "min_height": null,
            "padding": null,
            "grid_auto_rows": null,
            "grid_gap": null,
            "max_width": null,
            "order": null,
            "_view_module_version": "1.2.0",
            "grid_template_areas": null,
            "object_position": null,
            "object_fit": null,
            "grid_auto_columns": null,
            "margin": null,
            "display": null,
            "left": null
          }
        },
        "798be860fa5e4af58c866da2b54c33df": {
          "model_module": "@jupyter-widgets/controls",
          "model_name": "HBoxModel",
          "state": {
            "_view_name": "HBoxView",
            "_dom_classes": [],
            "_model_name": "HBoxModel",
            "_view_module": "@jupyter-widgets/controls",
            "_model_module_version": "1.5.0",
            "_view_count": null,
            "_view_module_version": "1.5.0",
            "box_style": "",
            "layout": "IPY_MODEL_da2884941d5c483783069d674a98c562",
            "_model_module": "@jupyter-widgets/controls",
            "children": [
              "IPY_MODEL_87a81718ad18491fb52dd4ad8fa782bd",
              "IPY_MODEL_f69bcc533c814ff197951f3b4591e9b7"
            ]
          }
        },
        "da2884941d5c483783069d674a98c562": {
          "model_module": "@jupyter-widgets/base",
          "model_name": "LayoutModel",
          "state": {
            "_view_name": "LayoutView",
            "grid_template_rows": null,
            "right": null,
            "justify_content": null,
            "_view_module": "@jupyter-widgets/base",
            "overflow": null,
            "_model_module_version": "1.2.0",
            "_view_count": null,
            "flex_flow": null,
            "width": null,
            "min_width": null,
            "border": null,
            "align_items": null,
            "bottom": null,
            "_model_module": "@jupyter-widgets/base",
            "top": null,
            "grid_column": null,
            "overflow_y": null,
            "overflow_x": null,
            "grid_auto_flow": null,
            "grid_area": null,
            "grid_template_columns": null,
            "flex": null,
            "_model_name": "LayoutModel",
            "justify_items": null,
            "grid_row": null,
            "max_height": null,
            "align_content": null,
            "visibility": null,
            "align_self": null,
            "height": null,
            "min_height": null,
            "padding": null,
            "grid_auto_rows": null,
            "grid_gap": null,
            "max_width": null,
            "order": null,
            "_view_module_version": "1.2.0",
            "grid_template_areas": null,
            "object_position": null,
            "object_fit": null,
            "grid_auto_columns": null,
            "margin": null,
            "display": null,
            "left": null
          }
        },
        "87a81718ad18491fb52dd4ad8fa782bd": {
          "model_module": "@jupyter-widgets/controls",
          "model_name": "FloatProgressModel",
          "state": {
            "_view_name": "ProgressView",
            "style": "IPY_MODEL_e44a30ae2b9a4fed85e420dbf088b640",
            "_dom_classes": [],
            "description": "  0%",
            "_model_name": "FloatProgressModel",
            "bar_style": "info",
            "max": 1,
            "_view_module": "@jupyter-widgets/controls",
            "_model_module_version": "1.5.0",
            "value": 0,
            "_view_count": null,
            "_view_module_version": "1.5.0",
            "orientation": "horizontal",
            "min": 0,
            "description_tooltip": null,
            "_model_module": "@jupyter-widgets/controls",
            "layout": "IPY_MODEL_84fc5ea8cf7c4284b48de387154e8650"
          }
        },
        "f69bcc533c814ff197951f3b4591e9b7": {
          "model_module": "@jupyter-widgets/controls",
          "model_name": "HTMLModel",
          "state": {
            "_view_name": "HTMLView",
            "style": "IPY_MODEL_d86ec2cf89b04afaab27a38959d55a35",
            "_dom_classes": [],
            "description": "",
            "_model_name": "HTMLModel",
            "placeholder": "​",
            "_view_module": "@jupyter-widgets/controls",
            "_model_module_version": "1.5.0",
            "value": " 0/4542 [00:00&lt;?, ?it/s]",
            "_view_count": null,
            "_view_module_version": "1.5.0",
            "description_tooltip": null,
            "_model_module": "@jupyter-widgets/controls",
            "layout": "IPY_MODEL_522976b22d584deda150e2a55b8e9ac4"
          }
        },
        "e44a30ae2b9a4fed85e420dbf088b640": {
          "model_module": "@jupyter-widgets/controls",
          "model_name": "ProgressStyleModel",
          "state": {
            "_view_name": "StyleView",
            "_model_name": "ProgressStyleModel",
            "description_width": "initial",
            "_view_module": "@jupyter-widgets/base",
            "_model_module_version": "1.5.0",
            "_view_count": null,
            "_view_module_version": "1.2.0",
            "bar_color": null,
            "_model_module": "@jupyter-widgets/controls"
          }
        },
        "84fc5ea8cf7c4284b48de387154e8650": {
          "model_module": "@jupyter-widgets/base",
          "model_name": "LayoutModel",
          "state": {
            "_view_name": "LayoutView",
            "grid_template_rows": null,
            "right": null,
            "justify_content": null,
            "_view_module": "@jupyter-widgets/base",
            "overflow": null,
            "_model_module_version": "1.2.0",
            "_view_count": null,
            "flex_flow": null,
            "width": null,
            "min_width": null,
            "border": null,
            "align_items": null,
            "bottom": null,
            "_model_module": "@jupyter-widgets/base",
            "top": null,
            "grid_column": null,
            "overflow_y": null,
            "overflow_x": null,
            "grid_auto_flow": null,
            "grid_area": null,
            "grid_template_columns": null,
            "flex": null,
            "_model_name": "LayoutModel",
            "justify_items": null,
            "grid_row": null,
            "max_height": null,
            "align_content": null,
            "visibility": null,
            "align_self": null,
            "height": null,
            "min_height": null,
            "padding": null,
            "grid_auto_rows": null,
            "grid_gap": null,
            "max_width": null,
            "order": null,
            "_view_module_version": "1.2.0",
            "grid_template_areas": null,
            "object_position": null,
            "object_fit": null,
            "grid_auto_columns": null,
            "margin": null,
            "display": null,
            "left": null
          }
        },
        "d86ec2cf89b04afaab27a38959d55a35": {
          "model_module": "@jupyter-widgets/controls",
          "model_name": "DescriptionStyleModel",
          "state": {
            "_view_name": "StyleView",
            "_model_name": "DescriptionStyleModel",
            "description_width": "",
            "_view_module": "@jupyter-widgets/base",
            "_model_module_version": "1.5.0",
            "_view_count": null,
            "_view_module_version": "1.2.0",
            "_model_module": "@jupyter-widgets/controls"
          }
        },
        "522976b22d584deda150e2a55b8e9ac4": {
          "model_module": "@jupyter-widgets/base",
          "model_name": "LayoutModel",
          "state": {
            "_view_name": "LayoutView",
            "grid_template_rows": null,
            "right": null,
            "justify_content": null,
            "_view_module": "@jupyter-widgets/base",
            "overflow": null,
            "_model_module_version": "1.2.0",
            "_view_count": null,
            "flex_flow": null,
            "width": null,
            "min_width": null,
            "border": null,
            "align_items": null,
            "bottom": null,
            "_model_module": "@jupyter-widgets/base",
            "top": null,
            "grid_column": null,
            "overflow_y": null,
            "overflow_x": null,
            "grid_auto_flow": null,
            "grid_area": null,
            "grid_template_columns": null,
            "flex": null,
            "_model_name": "LayoutModel",
            "justify_items": null,
            "grid_row": null,
            "max_height": null,
            "align_content": null,
            "visibility": null,
            "align_self": null,
            "height": null,
            "min_height": null,
            "padding": null,
            "grid_auto_rows": null,
            "grid_gap": null,
            "max_width": null,
            "order": null,
            "_view_module_version": "1.2.0",
            "grid_template_areas": null,
            "object_position": null,
            "object_fit": null,
            "grid_auto_columns": null,
            "margin": null,
            "display": null,
            "left": null
          }
        }
      }
    }
  },
  "cells": [
    {
      "cell_type": "markdown",
      "metadata": {
        "id": "WAInFS8b22Le"
      },
      "source": [
        "# 1 Import library and dataset"
      ]
    },
    {
      "cell_type": "markdown",
      "metadata": {
        "id": "PLUizEeF_N65"
      },
      "source": [
        "## 1.1 Import library"
      ]
    },
    {
      "cell_type": "code",
      "metadata": {
        "id": "rnsu2W7a207y"
      },
      "source": [
        "# Import Libraries \n",
        "import torch \n",
        "import torchvision \n",
        "import torchvision.transforms as transforms\n",
        "import torch.nn as nn\n",
        "import torch.nn.functional as F\n",
        "import torch.optim as optim\n",
        "from torch.utils.data.sampler import SubsetRandomSampler\n",
        "from torchsummary import summary\n",
        "from sklearn.model_selection import train_test_split\n",
        "from statistics import stdev, mean\n",
        "import numpy as np \n",
        "import matplotlib.pyplot as plt \n",
        "from matplotlib.ticker import PercentFormatter\n",
        "%matplotlib inline"
      ],
      "execution_count": 1,
      "outputs": []
    },
    {
      "cell_type": "markdown",
      "metadata": {
        "id": "-arbvgN3_UTu"
      },
      "source": [
        "## 1.2 Data import"
      ]
    },
    {
      "cell_type": "code",
      "metadata": {
        "id": "Cn0xzNly2Kzt"
      },
      "source": [
        "# Define import transformation \n",
        "trans = transforms.Compose(\n",
        "    [transforms.ToTensor(),\n",
        "     transforms.Normalize((0.1307,), (0.3081,))])"
      ],
      "execution_count": 2,
      "outputs": []
    },
    {
      "cell_type": "code",
      "metadata": {
        "colab": {
          "base_uri": "https://localhost:8080/",
          "height": 403,
          "referenced_widgets": [
            "8febdc85456946f59d35151894d7bec1",
            "ccbecae99e094d0f9b39aeea709d0cd8",
            "c4350eec7c3746acb714ee3a6a294416",
            "a0403a150e9948d881d0c56bd39693ab",
            "0611a9eed3bb4061a4f180fe493a1ccf",
            "6f7129b55a95461b82402b45efdaa460",
            "221650504d3d48c3819b744d7537dfbe",
            "d59061b76f654e3388d7da60eb5a39be",
            "b5ba85b2fa1846dc88bef67ab4e2b834",
            "7a1ffd80896f44a898f0ca9757c7992a",
            "8a1d337df7ca44f3a692a4b0666c3b8d",
            "3b5c6c66455a4b12b8dc0de0451ffcf7",
            "0f4f4b0aed9c45cea169231c01621d66",
            "2bd637c1a97f41ddb0f2a2182b5b00bd",
            "2b6b9ae3db9e44909b1abf7492529be7",
            "4735d163c5fc4838bfed3063a64ebab7",
            "144a2e07e20e4b5a8f507537e1dbc9e2",
            "753dfd0450484137bdf4e2af5e1f007f",
            "76a25bdfd4784fccaec14f63c6cea136",
            "bb9a62abe99549f1aaa95c08f0eb39b4",
            "70d632b908ee4b8994fc4ab3e3ded05e",
            "ba4282b294ac4344828b85c21f6f0d8c",
            "61b2779360ae48f19938824fe3fd393c",
            "4ada05240b674208afbc3c2faade836f",
            "798be860fa5e4af58c866da2b54c33df",
            "da2884941d5c483783069d674a98c562",
            "87a81718ad18491fb52dd4ad8fa782bd",
            "f69bcc533c814ff197951f3b4591e9b7",
            "e44a30ae2b9a4fed85e420dbf088b640",
            "84fc5ea8cf7c4284b48de387154e8650",
            "d86ec2cf89b04afaab27a38959d55a35",
            "522976b22d584deda150e2a55b8e9ac4"
          ]
        },
        "id": "9E07WeXF_izI",
        "outputId": "048f1772-7028-4cbd-f198-23980ef2575d"
      },
      "source": [
        "trainset = torchvision.datasets.MNIST(root = './data', train = True, transform = trans, download=True)\n",
        "validset = torchvision.datasets.MNIST(root='./data', train=True, download=True, transform=trans)\n",
        "testset = torchvision.datasets.MNIST(root='./data', train=False, download=True, transform=trans)"
      ],
      "execution_count": 3,
      "outputs": [
        {
          "output_type": "stream",
          "text": [
            "Downloading http://yann.lecun.com/exdb/mnist/train-images-idx3-ubyte.gz to ./data/MNIST/raw/train-images-idx3-ubyte.gz\n"
          ],
          "name": "stdout"
        },
        {
          "output_type": "display_data",
          "data": {
            "application/vnd.jupyter.widget-view+json": {
              "model_id": "8febdc85456946f59d35151894d7bec1",
              "version_minor": 0,
              "version_major": 2
            },
            "text/plain": [
              "HBox(children=(FloatProgress(value=1.0, bar_style='info', max=1.0), HTML(value='')))"
            ]
          },
          "metadata": {
            "tags": []
          }
        },
        {
          "output_type": "stream",
          "text": [
            "Extracting ./data/MNIST/raw/train-images-idx3-ubyte.gz to ./data/MNIST/raw\n",
            "Downloading http://yann.lecun.com/exdb/mnist/train-labels-idx1-ubyte.gz to ./data/MNIST/raw/train-labels-idx1-ubyte.gz\n"
          ],
          "name": "stdout"
        },
        {
          "output_type": "display_data",
          "data": {
            "application/vnd.jupyter.widget-view+json": {
              "model_id": "b5ba85b2fa1846dc88bef67ab4e2b834",
              "version_minor": 0,
              "version_major": 2
            },
            "text/plain": [
              "HBox(children=(FloatProgress(value=1.0, bar_style='info', max=1.0), HTML(value='')))"
            ]
          },
          "metadata": {
            "tags": []
          }
        },
        {
          "output_type": "stream",
          "text": [
            "Extracting ./data/MNIST/raw/train-labels-idx1-ubyte.gz to ./data/MNIST/raw\n",
            "Downloading http://yann.lecun.com/exdb/mnist/t10k-images-idx3-ubyte.gz to ./data/MNIST/raw/t10k-images-idx3-ubyte.gz\n"
          ],
          "name": "stdout"
        },
        {
          "output_type": "display_data",
          "data": {
            "application/vnd.jupyter.widget-view+json": {
              "model_id": "144a2e07e20e4b5a8f507537e1dbc9e2",
              "version_minor": 0,
              "version_major": 2
            },
            "text/plain": [
              "HBox(children=(FloatProgress(value=1.0, bar_style='info', max=1.0), HTML(value='')))"
            ]
          },
          "metadata": {
            "tags": []
          }
        },
        {
          "output_type": "stream",
          "text": [
            "Extracting ./data/MNIST/raw/t10k-images-idx3-ubyte.gz to ./data/MNIST/raw\n",
            "Downloading http://yann.lecun.com/exdb/mnist/t10k-labels-idx1-ubyte.gz to ./data/MNIST/raw/t10k-labels-idx1-ubyte.gz\n",
            "\n",
            "\n"
          ],
          "name": "stdout"
        },
        {
          "output_type": "display_data",
          "data": {
            "application/vnd.jupyter.widget-view+json": {
              "model_id": "798be860fa5e4af58c866da2b54c33df",
              "version_minor": 0,
              "version_major": 2
            },
            "text/plain": [
              "HBox(children=(FloatProgress(value=1.0, bar_style='info', max=1.0), HTML(value='')))"
            ]
          },
          "metadata": {
            "tags": []
          }
        },
        {
          "output_type": "stream",
          "text": [
            "Extracting ./data/MNIST/raw/t10k-labels-idx1-ubyte.gz to ./data/MNIST/raw\n",
            "Processing...\n"
          ],
          "name": "stdout"
        },
        {
          "output_type": "stream",
          "text": [
            "/usr/local/lib/python3.6/dist-packages/torchvision/datasets/mnist.py:480: UserWarning: The given NumPy array is not writeable, and PyTorch does not support non-writeable tensors. This means you can write to the underlying (supposedly non-writeable) NumPy array using the tensor. You may want to copy the array to protect its data or make it writeable before converting it to a tensor. This type of warning will be suppressed for the rest of this program. (Triggered internally at  /pytorch/torch/csrc/utils/tensor_numpy.cpp:141.)\n",
            "  return torch.from_numpy(parsed.astype(m[2], copy=False)).view(*s)\n"
          ],
          "name": "stderr"
        },
        {
          "output_type": "stream",
          "text": [
            "Done!\n"
          ],
          "name": "stdout"
        }
      ]
    },
    {
      "cell_type": "code",
      "metadata": {
        "colab": {
          "base_uri": "https://localhost:8080/"
        },
        "id": "cf9WMh1pMY9f",
        "outputId": "0118d342-bc31-4561-b617-85992ee634df"
      },
      "source": [
        "num_train = len(trainset)\n",
        "valid_size = 0.2\n",
        "indices = list(range(num_train))\n",
        "split = int(np.floor(valid_size * num_train))\n",
        "print('split size:',split)\n",
        "train_idx, valid_idx = indices[split:], indices[:split]\n",
        "train_sampler = SubsetRandomSampler(train_idx)\n",
        "valid_sampler = SubsetRandomSampler(valid_idx)"
      ],
      "execution_count": 4,
      "outputs": [
        {
          "output_type": "stream",
          "text": [
            "split size: 12000\n"
          ],
          "name": "stdout"
        }
      ]
    },
    {
      "cell_type": "code",
      "metadata": {
        "id": "mWPkzvvk_iba"
      },
      "source": [
        "# Load datasets \n",
        "trainloader = torch.utils.data.DataLoader(trainset, batch_size=64, sampler=train_sampler)\n",
        "validloader = torch.utils.data.DataLoader(validset, batch_size=64, sampler=valid_sampler)\n",
        "testloader  = torch.utils.data.DataLoader(testset, batch_size=1000,shuffle=True)"
      ],
      "execution_count": 5,
      "outputs": []
    },
    {
      "cell_type": "code",
      "metadata": {
        "colab": {
          "base_uri": "https://localhost:8080/"
        },
        "id": "W-n9LIU0DTI_",
        "outputId": "8a21ad9d-69f1-4dcd-8939-7e4b9411302c"
      },
      "source": [
        "# Example Data\n",
        "examples = enumerate(trainloader)\n",
        "batch_idx, (example_data, example_targets) = next(examples)\n",
        "example_data.shape"
      ],
      "execution_count": 6,
      "outputs": [
        {
          "output_type": "execute_result",
          "data": {
            "text/plain": [
              "torch.Size([64, 1, 28, 28])"
            ]
          },
          "metadata": {
            "tags": []
          },
          "execution_count": 6
        }
      ]
    },
    {
      "cell_type": "code",
      "metadata": {
        "colab": {
          "base_uri": "https://localhost:8080/",
          "height": 551
        },
        "id": "kK7MjzmADaN6",
        "outputId": "5e6f0ae1-fa82-4d2c-f11f-182237d3cdba"
      },
      "source": [
        "# Data visulalization \n",
        "fig = plt.figure()\n",
        "for i in range(6):\n",
        "  plt.subplot(2,3,i+1)\n",
        "  plt.tight_layout()\n",
        "  plt.imshow(example_data[i][0], cmap='gray', interpolation='none')\n",
        "  plt.title(\"Label: {}\".format(example_targets[i]))\n",
        "  plt.xticks([])\n",
        "  plt.yticks([])\n",
        "fig"
      ],
      "execution_count": 7,
      "outputs": [
        {
          "output_type": "execute_result",
          "data": {
            "image/png": "[encoded data removed]",
            "text/plain": [
              "<Figure size 432x288 with 6 Axes>"
            ]
          },
          "metadata": {
            "tags": []
          },
          "execution_count": 7
        },
        {
          "output_type": "display_data",
          "data": {
            "image/png": "[encoded data removed]",
            "text/plain": [
              "<Figure size 432x288 with 6 Axes>"
            ]
          },
          "metadata": {
            "tags": []
          }
        }
      ]
    },
    {
      "cell_type": "markdown",
      "metadata": {
        "id": "tWfmQL2kUoUN"
      },
      "source": [
        "# 2 Buildinbg model and training functions"
      ]
    },
    {
      "cell_type": "markdown",
      "metadata": {
        "id": "A0fXKBvW23Bp"
      },
      "source": [
        "### Recomended Structure\n",
        "\n",
        "- Conv2d (1->16 channels, kernel: 3x3, stride: 1, padding: 1)   \n",
        "- ReLU( )  \n",
        "- MaxPool (2x2)  \n",
        "- Conv2d (16->4 channels, kernel: 3x3, stride: 1, padding: 1)  \n",
        "- ReLU( )  \n",
        "- MaxPool (2x2)  \n",
        "- Linear (196, 10)  \n",
        "- Softmax( )"
      ]
    },
    {
      "cell_type": "code",
      "metadata": {
        "id": "112uxLHE3DWa"
      },
      "source": [
        "class NET(nn.Module):\n",
        "  def __init__(self):\n",
        "    super(NET, self).__init__()\n",
        "    self.conv1 = nn.Conv2d(1, 16, kernel_size=3, stride=1, padding=1)\n",
        "    self.conv2 = nn.Conv2d(16, 4, kernel_size=3, stride=1, padding=1)\n",
        "    self.fc1   = nn.Linear(196, 10)\n",
        "    self.pool  = nn.MaxPool2d(2,2)\n",
        "  def forward(self, x):\n",
        "    x = self.pool(F.relu(self.conv1(x)))\n",
        "    x = self.pool(F.relu(self.conv2(x)))\n",
        "    x = x.view(-1, 196)\n",
        "    x = self.fc1(x)\n",
        "    x  = F.log_softmax(x, dim=1)\n",
        "    return x\n",
        "  def count_parameters(self):\n",
        "    return sum(p.numel() for p in self.parameters() if p.requires_grad)  "
      ],
      "execution_count": 8,
      "outputs": []
    },
    {
      "cell_type": "markdown",
      "metadata": {
        "id": "G8pFa6FddHD4"
      },
      "source": [
        "## 2.2 Training function"
      ]
    },
    {
      "cell_type": "code",
      "metadata": {
        "id": "EaiZJlyTaMyx"
      },
      "source": [
        "def fit(model:NET,epochs=3, lr=0.001, step_size=10):\n",
        "  train_loss = []\n",
        "  train_acc = []\n",
        "  val_loss = []\n",
        "  val_acc = []\n",
        "  # print('learning rate:',lr)\n",
        "  model.train()\n",
        "  optimizer = optim.Adam(model.parameters(), lr=lr)\n",
        "  for epoch in range(epochs):\n",
        "    running_loss = 0.0\n",
        "    for i, (inputs, targets) in enumerate(trainloader):     \n",
        "      outputs = model(inputs)\n",
        "      loss = criterion(outputs, targets)\n",
        "      running_loss += loss.item()\n",
        "      \n",
        "      optimizer.zero_grad()\n",
        "      loss.backward()\n",
        "      optimizer.step()\n",
        "\n",
        "      if i % step_size == 0: \n",
        "        train_loss.append(running_loss/step_size)\n",
        "        running_loss = 0.0\n",
        "        v_loss, v_acc = valid_eval(mlp)\n",
        "        val_loss.append(v_loss)\n",
        "        val_acc.append(v_acc) \n",
        "  \n",
        "  return train_loss, val_loss, val_acc"
      ],
      "execution_count": 9,
      "outputs": []
    },
    {
      "cell_type": "markdown",
      "metadata": {
        "id": "yehqQXjWdL_Q"
      },
      "source": [
        "## 2.3 Evaluation functions"
      ]
    },
    {
      "cell_type": "code",
      "metadata": {
        "id": "SWLUimmNBA_Q"
      },
      "source": [
        "def test_eval(model:NET):\n",
        "  model.eval()\n",
        "  test_loss = 0\n",
        "  correct = 0\n",
        "  with torch.no_grad():\n",
        "    for i, data in enumerate(testloader, 0):\n",
        "      inputs, labels = data\n",
        "      outputs = model(inputs)\n",
        "      test_loss += criterion(outputs, labels)\n",
        "      _, predicted = torch.max(outputs, 1)\n",
        "      correct += (predicted == labels).sum().item()\n",
        "  test_loss /= len(testloader.dataset)\n",
        "  test_accs = (100. * correct / len(testloader.dataset))\n",
        "  print('\\nTest set: Avg. loss: {:.4f}, Accuracy: {}/{} ({:.0f}%)\\n'.format(\n",
        "    test_loss, correct, len(testloader.dataset),\n",
        "    100. * correct / len(testloader.dataset)))\n",
        "  return test_loss, test_accs"
      ],
      "execution_count": 10,
      "outputs": []
    },
    {
      "cell_type": "code",
      "metadata": {
        "id": "s8_cU5qpCWZl"
      },
      "source": [
        "def valid_eval(model:NET):\n",
        "  model.eval()\n",
        "  val_loss = 0\n",
        "  correct = 0\n",
        "  with torch.no_grad():\n",
        "    for i, data in enumerate(validloader, 0):\n",
        "      inputs, labels = data\n",
        "      outputs = model(inputs)\n",
        "      val_loss += criterion(outputs, labels)\n",
        "      _, predicted = torch.max(outputs, 1)\n",
        "      correct += (predicted == labels).sum().item()\n",
        "  val_loss /= split\n",
        "  val_acc = (100. * correct / split)\n",
        "  # print('Valid set: Avg. loss: {:.4f}, Accuracy: {}/{} ({:.0f}%)'.format(\n",
        "  #   val_loss, correct, split,\n",
        "  #   100. * correct / split))\n",
        "  return val_loss, val_acc"
      ],
      "execution_count": 11,
      "outputs": []
    },
    {
      "cell_type": "markdown",
      "metadata": {
        "id": "ptiE14xgdbc1"
      },
      "source": [
        "# Model Summary"
      ]
    },
    {
      "cell_type": "code",
      "metadata": {
        "colab": {
          "base_uri": "https://localhost:8080/"
        },
        "id": "ZPnhnZCSMbEU",
        "outputId": "c9cf92a9-1590-4e9e-f60d-8d939aa8d6d5"
      },
      "source": [
        "mlp = NET()\n",
        "total_parameters = mlp.count_parameters()\n",
        "print('Total Number of parameters',total_parameters)\n",
        "summary(mlp, (1, 28, 28))"
      ],
      "execution_count": 12,
      "outputs": [
        {
          "output_type": "stream",
          "text": [
            "Total Number of parameters 2710\n",
            "----------------------------------------------------------------\n",
            "        Layer (type)               Output Shape         Param #\n",
            "================================================================\n",
            "            Conv2d-1           [-1, 16, 28, 28]             160\n",
            "         MaxPool2d-2           [-1, 16, 14, 14]               0\n",
            "            Conv2d-3            [-1, 4, 14, 14]             580\n",
            "         MaxPool2d-4              [-1, 4, 7, 7]               0\n",
            "            Linear-5                   [-1, 10]           1,970\n",
            "================================================================\n",
            "Total params: 2,710\n",
            "Trainable params: 2,710\n",
            "Non-trainable params: 0\n",
            "----------------------------------------------------------------\n",
            "Input size (MB): 0.00\n",
            "Forward/backward pass size (MB): 0.13\n",
            "Params size (MB): 0.01\n",
            "Estimated Total Size (MB): 0.14\n",
            "----------------------------------------------------------------\n"
          ],
          "name": "stdout"
        }
      ]
    },
    {
      "cell_type": "markdown",
      "metadata": {
        "id": "PaCq_kVjdsY4"
      },
      "source": [
        "# 3 Train and evaluate the model"
      ]
    },
    {
      "cell_type": "markdown",
      "metadata": {
        "id": "3UavnKQUc2QQ"
      },
      "source": [
        "## 3.1 Traing the CNN using ADAM optimizer and analays the training and validation loss. Verify the performance of the network using test set"
      ]
    },
    {
      "cell_type": "code",
      "metadata": {
        "id": "tUdC1hpMd0hg"
      },
      "source": [
        "# Parameter setup \n",
        "learning_rate = 0.01\n",
        "epochs = 3\n",
        "step_size = 200 # inverval steps for logging the loss and accuracy \n",
        "criterion = nn.NLLLoss()"
      ],
      "execution_count": 13,
      "outputs": []
    },
    {
      "cell_type": "code",
      "metadata": {
        "colab": {
          "base_uri": "https://localhost:8080/"
        },
        "id": "5mGZuPFNAfWM",
        "outputId": "83ff3ba6-b872-4847-a237-16633a957d3d"
      },
      "source": [
        "mlp = NET()\n",
        "test_eval(mlp)\n",
        "train_loss, val_loss, val_acc = fit(mlp, lr=0.01)\n",
        "test_eval(mlp)"
      ],
      "execution_count": 14,
      "outputs": [
        {
          "output_type": "stream",
          "text": [
            "\n",
            "Test set: Avg. loss: 0.0023, Accuracy: 894/10000 (9%)\n",
            "\n",
            "\n",
            "Test set: Avg. loss: 0.0001, Accuracy: 9701/10000 (97%)\n",
            "\n"
          ],
          "name": "stdout"
        },
        {
          "output_type": "execute_result",
          "data": {
            "text/plain": [
              "(tensor(9.9031e-05), 97.01)"
            ]
          },
          "metadata": {
            "tags": []
          },
          "execution_count": 14
        }
      ]
    },
    {
      "cell_type": "code",
      "metadata": {
        "colab": {
          "base_uri": "https://localhost:8080/",
          "height": 265
        },
        "id": "IHmS1cFVM-xA",
        "outputId": "cbc424b8-a121-4bb6-b8d7-e2fada1cb734"
      },
      "source": [
        "# plt.plot(train_loss, color='r')\n",
        "plt.plot(val_loss, color='g', label='Validation')\n",
        "plt.legend()\n",
        "plt.grid()\n",
        "plt.show()"
      ],
      "execution_count": 15,
      "outputs": [
        {
          "output_type": "display_data",
          "data": {
            "image/png": "[encoded data removed]",
            "text/plain": [
              "<Figure size 432x288 with 1 Axes>"
            ]
          },
          "metadata": {
            "tags": [],
            "needs_background": "light"
          }
        }
      ]
    },
    {
      "cell_type": "code",
      "metadata": {
        "colab": {
          "base_uri": "https://localhost:8080/",
          "height": 265
        },
        "id": "IxZp-fsZTCBK",
        "outputId": "eeec6808-302a-4ad6-e9f8-96bcc585519e"
      },
      "source": [
        "plt.plot(val_acc, color='g', label='Validation')\n",
        "plt.legend()\n",
        "plt.grid()\n",
        "plt.show()"
      ],
      "execution_count": 16,
      "outputs": [
        {
          "output_type": "display_data",
          "data": {
            "image/png": "[encoded data removed]",
            "text/plain": [
              "<Figure size 432x288 with 1 Axes>"
            ]
          },
          "metadata": {
            "tags": [],
            "needs_background": "light"
          }
        }
      ]
    },
    {
      "cell_type": "markdown",
      "metadata": {
        "id": "qSaZ2q8qjCDH"
      },
      "source": [
        "## 3.2 Experiment 2: Identify mean, $\\mu$ and standrd deviation $\\sigma$ the training loss and accuracy"
      ]
    },
    {
      "cell_type": "code",
      "metadata": {
        "id": "4I-w3MPwDV9N"
      },
      "source": [
        "def fit2(model:NET,epochs=1, lr=0.001, step_size=1, break_size = 10, seed_no=0):\n",
        "  train_loss = []\n",
        "  train_acc = []\n",
        "  val_loss = []\n",
        "  val_acc = []\n",
        "  # print('learning rate:',lr)\n",
        "  torch.manual_seed(seed_no)\n",
        "  model.train()\n",
        "  optimizer = optim.Adam(model.parameters(), lr=lr)\n",
        "  for epoch in range(epochs):\n",
        "    running_loss = 0.0\n",
        "    for i, (inputs, targets) in enumerate(trainloader):     \n",
        "      outputs = model(inputs)\n",
        "      loss = criterion(outputs, targets)\n",
        "      running_loss += loss.item()\n",
        "      \n",
        "      optimizer.zero_grad()\n",
        "      loss.backward()\n",
        "      optimizer.step()\n",
        "\n",
        "      if i % step_size == 0: \n",
        "        train_loss.append(running_loss/step_size)\n",
        "        running_loss = 0.0\n",
        "        v_loss, v_acc = valid_eval(mlp)\n",
        "        val_loss.append(v_loss)\n",
        "        val_acc.append(v_acc) \n",
        "      \n",
        "      if i == break_size: break\n",
        "  \n",
        "  return train_loss, val_loss, val_acc"
      ],
      "execution_count": 18,
      "outputs": []
    },
    {
      "cell_type": "code",
      "metadata": {
        "colab": {
          "base_uri": "https://localhost:8080/"
        },
        "id": "P7kk9Tuykt3A",
        "outputId": "69557825-c30d-4f66-a17d-35efa9894f45"
      },
      "source": [
        "# Parameter setup \n",
        "learning_rate = 0.0001\n",
        "epochs = 1\n",
        "criterion = nn.NLLLoss()\n",
        "seeds = [1,20, 58, 94]\n",
        "train_losses =[]\n",
        "val_losses=[]\n",
        "val_accs=[]\n",
        "break_size = 25\n",
        "\n",
        "for seed in seeds:\n",
        "  print('Seed no:',seed)\n",
        "  mlp = NET()\n",
        "  tring_loss, val_loss, val_acc = fit2(mlp, epochs=epochs, lr=learning_rate, seed_no=seed, break_size=break_size)\n",
        "  train_losses.append(tring_loss)\n",
        "  val_losses.append(val_loss)\n",
        "  val_accs.append(val_acc)"
      ],
      "execution_count": 20,
      "outputs": [
        {
          "output_type": "stream",
          "text": [
            "Seed no: 1\n",
            "Seed no: 20\n",
            "Seed no: 58\n",
            "Seed no: 94\n"
          ],
          "name": "stdout"
        }
      ]
    },
    {
      "cell_type": "code",
      "metadata": {
        "colab": {
          "base_uri": "https://localhost:8080/",
          "height": 1000
        },
        "id": "prg1rzqRIkew",
        "outputId": "f490024c-2b68-4328-aea8-778bbb297efd"
      },
      "source": [
        "t = np.arange(1, break_size+2)\n",
        "tel = np.array(train_losses[0])\n",
        "tel_std_up = tel + stdev(tel)\n",
        "tel_std_down = tel - stdev(tel)\n",
        "\n",
        "fig, ax = plt.subplots()\n",
        "ax.plot(t, tel, color='red')\n",
        "ax.fill_between(t, tel_std_up, tel_std_down, facecolor='lightgreen', alpha=0.3)\n",
        "ax.set_title('Alpha plot, seed=1')\n",
        "ax.set_xlabel('Number of batches')\n",
        "ax.set_ylabel('Training Mean Loss and Standard Deviation')\n",
        "ax.set_xticks(np.arange(1, break_size+1))\n",
        "plt.show()\n",
        "\n",
        "t = np.arange(1, break_size+2)\n",
        "tel = np.array(train_losses[1])\n",
        "tel_std_up = tel + stdev(tel)\n",
        "tel_std_down = tel - stdev(tel)\n",
        "\n",
        "fig, ax = plt.subplots()\n",
        "ax.plot(t, tel, color='red')\n",
        "ax.fill_between(t, tel_std_up, tel_std_down, facecolor='lightgreen', alpha=0.3)\n",
        "ax.set_title('Alpha plot, seed=20')\n",
        "ax.set_xlabel('Number of batches')\n",
        "ax.set_ylabel('Training Mean Loss and Standard Deviation')\n",
        "ax.set_xticks(np.arange(1, break_size+1))\n",
        "plt.show()\n",
        "\n",
        "t = np.arange(1, break_size+2)\n",
        "tel = np.array(train_losses[2])\n",
        "tel_std_up = tel + stdev(tel)\n",
        "tel_std_down = tel - stdev(tel)\n",
        "\n",
        "fig, ax = plt.subplots()\n",
        "ax.plot(t, tel, color='red')\n",
        "ax.fill_between(t, tel_std_up, tel_std_down, facecolor='lightgreen', alpha=0.3)\n",
        "ax.set_title('Alpha plot, seed=58')\n",
        "ax.set_xlabel('Number of batches')\n",
        "ax.set_ylabel('Training Mean Loss and Standard Deviation')\n",
        "ax.set_xticks(np.arange(1, break_size+1))\n",
        "plt.show()\n",
        "\n",
        "t = np.arange(1, break_size+2)\n",
        "tel = np.array(train_losses[3])\n",
        "tel_std_up = tel + stdev(tel)\n",
        "tel_std_down = tel - stdev(tel)\n",
        "\n",
        "fig, ax = plt.subplots()\n",
        "ax.plot(t, tel, color='red')\n",
        "ax.fill_between(t, tel_std_up, tel_std_down, facecolor='lightgreen', alpha=0.3)\n",
        "ax.set_title('Alpha plot, seed=94')\n",
        "ax.set_xlabel('Number of batches')\n",
        "ax.set_ylabel('Training Mean Loss and Standard Deviation')\n",
        "ax.set_xticks(np.arange(1, break_size+1))\n",
        "plt.show()"
      ],
      "execution_count": 21,
      "outputs": [
        {
          "output_type": "display_data",
          "data": {
            "image/png": "[encoded data removed]",
            "text/plain": [
              "<Figure size 432x288 with 1 Axes>"
            ]
          },
          "metadata": {
            "tags": [],
            "needs_background": "light"
          }
        },
        {
          "output_type": "display_data",
          "data": {
            "image/png": "[encoded data removed]",
            "text/plain": [
              "<Figure size 432x288 with 1 Axes>"
            ]
          },
          "metadata": {
            "tags": [],
            "needs_background": "light"
          }
        },
        {
          "output_type": "display_data",
          "data": {
            "image/png": "[encoded data removed]",
            "text/plain": [
              "<Figure size 432x288 with 1 Axes>"
            ]
          },
          "metadata": {
            "tags": [],
            "needs_background": "light"
          }
        },
        {
          "output_type": "display_data",
          "data": {
            "image/png": "[encoded data removed]",
            "text/plain": [
              "<Figure size 432x288 with 1 Axes>"
            ]
          },
          "metadata": {
            "tags": [],
            "needs_background": "light"
          }
        }
      ]
    },
    {
      "cell_type": "markdown",
      "metadata": {
        "id": "jqJ7f4uFtJkx"
      },
      "source": [
        "# Experiment 3: Trying with differnt step size with Adam optimizer"
      ]
    },
    {
      "cell_type": "code",
      "metadata": {
        "colab": {
          "base_uri": "https://localhost:8080/"
        },
        "id": "D_v8MgcSoPEE",
        "outputId": "5469d90a-84fe-477a-ce3d-70d45351a843"
      },
      "source": [
        "# Parameter setup \n",
        "step_sizes = [0.00001, 0.0001, 0.001, 0.01, 0.05]\n",
        "epochs = 1\n",
        "step_size = 100 # inverval steps for logging the loss and accuracy \n",
        "criterion = nn.NLLLoss()\n",
        "\n",
        "# Iteration number\n",
        "val_losses=[]\n",
        "val_accs=[]\n",
        "for lr in step_sizes:\n",
        "  print('Learning rate:',lr)\n",
        "  mlp = NET()\n",
        "  _, val_loss, val_acc = fit(mlp, epochs=epochs, lr=lr)\n",
        "  val_losses.append(val_loss)\n",
        "  val_accs.append(val_acc)"
      ],
      "execution_count": 23,
      "outputs": [
        {
          "output_type": "stream",
          "text": [
            "Learning rate: 1e-05\n",
            "Learning rate: 0.0001\n",
            "Learning rate: 0.001\n",
            "Learning rate: 0.01\n",
            "Learning rate: 0.05\n"
          ],
          "name": "stdout"
        }
      ]
    },
    {
      "cell_type": "code",
      "metadata": {
        "colab": {
          "base_uri": "https://localhost:8080/",
          "height": 501
        },
        "id": "3q8eWOW4vQ_s",
        "outputId": "1c06e834-228c-4a91-e179-c3444767f213"
      },
      "source": [
        "fig= plt.figure(figsize=(12,8))\n",
        "plt.xlabel('learning intervals')\n",
        "plt.ylabel('Validation Accuracy')\n",
        "plt.plot(val_accs[0], label='0.00001')\n",
        "plt.plot(val_accs[1], label='0.0001')\n",
        "plt.plot(val_accs[2], label='0.001')\n",
        "plt.plot(val_accs[3], label='0.01')\n",
        "plt.plot(val_accs[4], label='0.05')\n",
        "plt.legend()\n",
        "plt.grid()\n",
        "plt.show()"
      ],
      "execution_count": 24,
      "outputs": [
        {
          "output_type": "display_data",
          "data": {
            "image/png": "[encoded data removed]",
            "text/plain": [
              "<Figure size 864x576 with 1 Axes>"
            ]
          },
          "metadata": {
            "tags": [],
            "needs_background": "light"
          }
        }
      ]
    },
    {
      "cell_type": "code",
      "metadata": {
        "colab": {
          "base_uri": "https://localhost:8080/",
          "height": 501
        },
        "id": "5fE53lheIrBI",
        "outputId": "71be6a5a-4194-47f6-98bb-b2c4f7fe38bd"
      },
      "source": [
        "fig= plt.figure(figsize=(12,8))\n",
        "plt.xlabel('learning intervals')\n",
        "plt.ylabel('Validation Loss')\n",
        "plt.ylim([.0, 0.05])\n",
        "plt.plot(val_losses[0], label='0.00001')\n",
        "plt.plot(val_losses[1], label='0.0001')\n",
        "plt.plot(val_losses[2], label='0.001')\n",
        "plt.plot(val_losses[3], label='0.01')\n",
        "plt.plot(val_losses[4], label='0.04')\n",
        "plt.legend()\n",
        "plt.grid()\n",
        "plt.show()"
      ],
      "execution_count": 25,
      "outputs": [
        {
          "output_type": "display_data",
          "data": {
            "image/png": "[encoded data removed]",
            "text/plain": [
              "<Figure size 864x576 with 1 Axes>"
            ]
          },
          "metadata": {
            "tags": [],
            "needs_background": "light"
          }
        }
      ]
    },
    {
      "cell_type": "code",
      "metadata": {
        "id": "V3b4q6wWO-nn"
      },
      "source": [
        ""
      ],
      "execution_count": null,
      "outputs": []
    }
  ]
}