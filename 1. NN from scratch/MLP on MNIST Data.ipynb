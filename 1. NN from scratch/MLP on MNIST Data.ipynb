{
  "nbformat": 4,
  "nbformat_minor": 0,
  "metadata": {
    "colab": {
      "name": "q4.ipynb",
      "provenance": []
    },
    "kernelspec": {
      "name": "python3",
      "display_name": "Python 3"
    },
    "accelerator": "TPU"
  },
  "cells": [
    {
      "cell_type": "markdown",
      "metadata": {
        "id": "QnhilQcsQjX7"
      },
      "source": [
        "# 1. Data Preprocessing and import libraries"
      ]
    },
    {
      "cell_type": "markdown",
      "metadata": {
        "id": "GjwjiKIiQpyX"
      },
      "source": [
        "## 1.1 Import required libraries"
      ]
    },
    {
      "cell_type": "code",
      "metadata": {
        "id": "Cvjm4j6TdJ9N"
      },
      "source": [
        "import numpy as np\n",
        "from urllib import request\n",
        "import random\n",
        "import gzip\n",
        "import pickle\n",
        "import os\n",
        "import matplotlib.pyplot as plt\n",
        "import pandas as pd \n",
        "%matplotlib inline"
      ],
      "execution_count": 1,
      "outputs": []
    },
    {
      "cell_type": "markdown",
      "metadata": {
        "id": "_rT_uj5zQxdq"
      },
      "source": [
        "## 1.2 Load mnist data"
      ]
    },
    {
      "cell_type": "code",
      "metadata": {
        "id": "aWtiYHcrdSVz"
      },
      "source": [
        "filename = [\n",
        "[\"training_images\",\"train-images-idx3-ubyte.gz\"],\n",
        "[\"test_images\",\"t10k-images-idx3-ubyte.gz\"],\n",
        "[\"training_labels\",\"train-labels-idx1-ubyte.gz\"],\n",
        "[\"test_labels\",\"t10k-labels-idx1-ubyte.gz\"]\n",
        "]"
      ],
      "execution_count": 8,
      "outputs": []
    },
    {
      "cell_type": "code",
      "metadata": {
        "id": "o_IXGJH1dUpV",
        "outputId": "8a58bf3f-4e77-43c2-b75b-7c79bdff8d5c",
        "colab": {
          "base_uri": "https://localhost:8080/"
        }
      },
      "source": [
        "def download_mnist():\n",
        "    base_url = \"http://yann.lecun.com/exdb/mnist/\"\n",
        "    for name in filename:\n",
        "        print(\"Downloading \"+name[1]+\"...\")\n",
        "        request.urlretrieve(base_url+name[1], name[1])\n",
        "    print(\"Download complete.\")\n",
        "\n",
        "def save_mnist():\n",
        "    mnist = {}\n",
        "    for name in filename[:2]:\n",
        "        with gzip.open(name[1], 'rb') as f:\n",
        "            mnist[name[0]] = np.frombuffer(f.read(), np.uint8, offset=16).reshape(-1,28*28)\n",
        "    for name in filename[-2:]:\n",
        "        with gzip.open(name[1], 'rb') as f:\n",
        "            mnist[name[0]] = np.frombuffer(f.read(), np.uint8, offset=8)\n",
        "    with open(\"mnist.pkl\", 'wb') as f:\n",
        "        pickle.dump(mnist,f)\n",
        "    print(\"Save complete.\")\n",
        "\n",
        "def init():\n",
        "    download_mnist()\n",
        "    save_mnist()\n",
        "\n",
        "def load():\n",
        "    with open(\"mnist.pkl\",'rb') as f:\n",
        "        mnist = pickle.load(f)\n",
        "    return mnist[\"training_images\"], mnist[\"training_labels\"], mnist[\"test_images\"], mnist[\"test_labels\"]\n",
        "init()"
      ],
      "execution_count": 6,
      "outputs": [
        {
          "output_type": "stream",
          "text": [
            "Downloading train-images-idx3-ubyte.gz...\n",
            "Downloading t10k-images-idx3-ubyte.gz...\n",
            "Downloading train-labels-idx1-ubyte.gz...\n",
            "Downloading t10k-labels-idx1-ubyte.gz...\n",
            "Download complete.\n",
            "Save complete.\n"
          ],
          "name": "stdout"
        }
      ]
    },
    {
      "cell_type": "code",
      "metadata": {
        "id": "Whq-Cl7ydPY-"
      },
      "source": [
        "def load_mnist(final=False, flatten=True):\n",
        "\n",
        "    if not os.path.isfile('mnist.pkl'):\n",
        "        init()\n",
        "\n",
        "    xtrain, ytrain, xtest, ytest = load()\n",
        "    xtl, xsl = xtrain.shape[0], xtest.shape[0]\n",
        "\n",
        "    if flatten:\n",
        "        xtrain = xtrain.reshape(xtl, -1)\n",
        "        xtest  = xtest.reshape(xsl, -1)\n",
        "\n",
        "    if not final: # return the flattened images\n",
        "        return (xtrain[:-5000], ytrain[:-5000]), (xtrain[-5000:], ytrain[-5000:]), 10\n",
        "\n",
        "    return (xtrain, ytrain), (xtest, ytest), 10"
      ],
      "execution_count": 7,
      "outputs": []
    },
    {
      "cell_type": "code",
      "metadata": {
        "id": "6vwyBsncdaSV"
      },
      "source": [
        "x_train, t_train, x_test, t_test = load()"
      ],
      "execution_count": 9,
      "outputs": []
    },
    {
      "cell_type": "code",
      "metadata": {
        "id": "BSydCpzrWFC3",
        "outputId": "68b6294f-96c7-47a3-adc3-b2297b303922",
        "colab": {
          "base_uri": "https://localhost:8080/"
        }
      },
      "source": [
        "print(x_train.shape, x_test.shape)"
      ],
      "execution_count": 30,
      "outputs": [
        {
          "output_type": "stream",
          "text": [
            "(60000, 784) (10000, 784)\n"
          ],
          "name": "stdout"
        }
      ]
    },
    {
      "cell_type": "code",
      "metadata": {
        "id": "5WeCr1Q2dcil",
        "outputId": "13a2cbb7-18e2-4d1e-f300-9a1d7a1e5c6a",
        "colab": {
          "base_uri": "https://localhost:8080/",
          "height": 265
        }
      },
      "source": [
        "img = x_train[0,:].reshape(28,28) # First image in the training set.\n",
        "plt.imshow(img,cmap='gray')\n",
        "plt.show() # Show the image"
      ],
      "execution_count": 10,
      "outputs": [
        {
          "output_type": "display_data",
          "data": {
            "image/png": "[encoded data removed]",
            "text/plain": [
              "<Figure size 432x288 with 1 Axes>"
            ]
          },
          "metadata": {
            "tags": [],
            "needs_background": "light"
          }
        }
      ]
    },
    {
      "cell_type": "markdown",
      "metadata": {
        "id": "AxTbIpxNReUo"
      },
      "source": [
        "## 1.3 data processing"
      ]
    },
    {
      "cell_type": "markdown",
      "metadata": {
        "id": "zrMA2r3HRtlG"
      },
      "source": [
        "### 1.3.1 Cover data to numpy array, convert to float and normalize by deviding 255 as gray sclase images will have 255 as the maximum value"
      ]
    },
    {
      "cell_type": "code",
      "metadata": {
        "id": "XJcX0Y_Ndeh1"
      },
      "source": [
        "x_train = np.array(x_train)\n",
        "t_train = np.array(t_train)\n",
        "x_test = np.array(x_test)\n",
        "t_test = np.array(t_test)"
      ],
      "execution_count": 15,
      "outputs": []
    },
    {
      "cell_type": "code",
      "metadata": {
        "id": "Bpn5I2tvdgjx"
      },
      "source": [
        "x_train = x_train.astype(np.float32)\n",
        "x_test = x_test.astype(np.float32)\n",
        "x_train = x_train/255.\n",
        "x_test = x_test/255."
      ],
      "execution_count": 16,
      "outputs": []
    },
    {
      "cell_type": "markdown",
      "metadata": {
        "id": "I-_f_Ou0SMPU"
      },
      "source": [
        "## 1.3.2 Output data processing by converting to one hot encoded data"
      ]
    },
    {
      "cell_type": "code",
      "metadata": {
        "id": "_s4Lhgf7dip6"
      },
      "source": [
        "def convertToOneHot(vector, num_classes=None):\n",
        "\n",
        "    assert isinstance(vector, np.ndarray)\n",
        "    assert len(vector) > 0\n",
        "\n",
        "    if num_classes is None:\n",
        "        num_classes = np.max(vector)+1\n",
        "    else:\n",
        "        assert num_classes > 0\n",
        "        assert num_classes >= np.max(vector)\n",
        "\n",
        "    result = np.zeros(shape=(len(vector), num_classes))\n",
        "    result[np.arange(len(vector)), vector] = 1\n",
        "    return result.astype(int)\n",
        "\n",
        "t_train_hot = convertToOneHot(t_train)\n",
        "t_test_hot = convertToOneHot(t_test)"
      ],
      "execution_count": 17,
      "outputs": []
    },
    {
      "cell_type": "code",
      "metadata": {
        "id": "aEzQes8gdk9d",
        "outputId": "c3d10bda-6843-439a-ee91-b5bfab7d001c",
        "colab": {
          "base_uri": "https://localhost:8080/",
          "height": 282
        }
      },
      "source": [
        "print(t_test_hot[0])\n",
        "img = x_test[0,:].reshape(28,28)\n",
        "plt.imshow(img, cmap='gray')\n",
        "plt.show()"
      ],
      "execution_count": 18,
      "outputs": [
        {
          "output_type": "stream",
          "text": [
            "[0 0 0 0 0 0 0 1 0 0]\n"
          ],
          "name": "stdout"
        },
        {
          "output_type": "display_data",
          "data": {
            "image/png": "[encoded data removed]",
            "text/plain": [
              "<Figure size 432x288 with 1 Axes>"
            ]
          },
          "metadata": {
            "tags": [],
            "needs_background": "light"
          }
        }
      ]
    },
    {
      "cell_type": "markdown",
      "metadata": {
        "id": "gnnogltZdwf-"
      },
      "source": [
        "# 2. Building the network"
      ]
    },
    {
      "cell_type": "code",
      "metadata": {
        "id": "uDuJV_Mddn1Z"
      },
      "source": [
        "# Activation Functions \n",
        "def sigmoid(inputs):\n",
        "    return 1 / (1 + np.exp(-inputs))\n",
        "def softmax(inputs):\n",
        "    val = np.exp(inputs - np.max(inputs, axis=1, keepdims=True))\n",
        "    return val/ np.sum(val, axis=1, keepdims=True)\n",
        "# Loss function \n",
        "def log_loss(y_hat, y_target):\n",
        "    y_hat = np.clip(y_hat, 1e-7, 1 - 1e-7)\n",
        "    val = np.sum(y_hat * y_target,axis=1)\n",
        "    return np.mean(-np.log(val))\n",
        "# Gradient funcrtions for loss and activation \n",
        "def gradient_loss(y_hat, y_target):\n",
        "    return y_hat - y_target\n",
        "def gradient_sigmoid(layer, grads_in):\n",
        "    return grads_in * layer.activation_output * (1 - layer.activation_output)\n",
        "# Optimizer \n",
        "def optimizer(layer, lr):\n",
        "    layer.weights = layer.weights -lr * layer.dw\n",
        "    layer.biases = layer.biases -lr * layer.db\n",
        "def mini_batch(X, y, batchSize):\n",
        "\tfor i in np.arange(0, X.shape[0], batchSize):\n",
        "\t\tyield (X[i:i + batchSize], y[i:i + batchSize])"
      ],
      "execution_count": 19,
      "outputs": []
    },
    {
      "cell_type": "code",
      "metadata": {
        "id": "QhzsN4Krd_rP"
      },
      "source": [
        "class layer():\n",
        "    def __init__ (self, input_size, neuron_no):\n",
        "        self.neuron_no = neuron_no\n",
        "        self.weights = 0.1 * np.random.randn(input_size, neuron_no)\n",
        "        self.biases = np.zeros((1, neuron_no))\n",
        "    def forward_pass(self, inputs, activation = 'sigmoid'):\n",
        "        self.inputs = inputs \n",
        "        self.outputs = np.dot(inputs, self.weights) + self.biases\n",
        "        if activation == 'sigmoid': self.activation_output = sigmoid(self.outputs) \n",
        "        elif activation == 'softmax': self.activation_output = softmax(self.outputs)\n",
        "    def backward_pass(self, grads_in):\n",
        "        self.dw = np.dot(self.inputs.T, grads_in)\n",
        "        self.db = np.sum(grads_in, axis=0, keepdims=True)\n",
        "        self.grads = np.dot(grads_in, self.weights.T)"
      ],
      "execution_count": 20,
      "outputs": []
    },
    {
      "cell_type": "code",
      "metadata": {
        "id": "0eckobhbeFr1"
      },
      "source": [
        "# Setting up the network \n",
        "input_layer = layer(neuron_no=300, input_size=784)\n",
        "output_layer = layer(neuron_no=10, input_size=300)"
      ],
      "execution_count": 21,
      "outputs": []
    },
    {
      "cell_type": "code",
      "metadata": {
        "id": "SvWcuxHohAHO",
        "outputId": "a5ddc544-bcf7-4a70-93cc-f3f0ad59a49d",
        "colab": {
          "base_uri": "https://localhost:8080/"
        }
      },
      "source": [
        "# Taking very small segment of database to verify the structure of the network\n",
        "X = x_train[:100].reshape(100,784)\n",
        "Y = t_train_hot[:100].reshape(100,10)\n",
        "X.shape, Y.shape"
      ],
      "execution_count": 22,
      "outputs": [
        {
          "output_type": "execute_result",
          "data": {
            "text/plain": [
              "((100, 784), (100, 10))"
            ]
          },
          "metadata": {
            "tags": []
          },
          "execution_count": 22
        }
      ]
    },
    {
      "cell_type": "code",
      "metadata": {
        "id": "3RLaBtYAhSK0",
        "outputId": "0c8d0817-e065-43f0-8dab-73248a3f992a",
        "colab": {
          "base_uri": "https://localhost:8080/"
        }
      },
      "source": [
        "# Trying out the network with sample input\n",
        "input_layer.forward_pass(inputs=X)\n",
        "output_layer.forward_pass(inputs=input_layer.activation_output, activation='softmax')\n",
        "\n",
        "print('         ### Nerwork Summary ###')\n",
        "print('Input shape                    :', X.shape)\n",
        "print(\"Output shape first layer       :\",input_layer.outputs.shape)\n",
        "print(\"Output shape Sigmoid Activation:\", input_layer.activation_output.shape)\n",
        "print(\"Output shape hidden layer      :\",output_layer.outputs.shape)\n",
        "print(\"Output shape output layer.     :\",output_layer.activation_output.shape)"
      ],
      "execution_count": 24,
      "outputs": [
        {
          "output_type": "stream",
          "text": [
            "         ### Nerwork Summary ###\n",
            "Input shape                    : (100, 784)\n",
            "Output shape first layer       : (100, 300)\n",
            "Output shape Sigmoid Activation: (100, 300)\n",
            "Output shape hidden layer      : (100, 10)\n",
            "Output shape output layer.     : (100, 10)\n"
          ],
          "name": "stdout"
        }
      ]
    },
    {
      "cell_type": "code",
      "metadata": {
        "id": "I-o-w9JRiB3L",
        "outputId": "417b62e0-c698-41df-fa6a-898aa964061e",
        "colab": {
          "base_uri": "https://localhost:8080/"
        }
      },
      "source": [
        "loss = log_loss(output_layer.activation_output, Y)\n",
        "loss"
      ],
      "execution_count": 25,
      "outputs": [
        {
          "output_type": "execute_result",
          "data": {
            "text/plain": [
              "2.3925560743214747"
            ]
          },
          "metadata": {
            "tags": []
          },
          "execution_count": 25
        }
      ]
    },
    {
      "cell_type": "code",
      "metadata": {
        "id": "vKjJpWDbhsF-",
        "outputId": "2cf26b4d-9549-4139-d5d0-0d7bd69222e4",
        "colab": {
          "base_uri": "https://localhost:8080/"
        }
      },
      "source": [
        "# Back propagate to get the local gradients of each functions \n",
        "dL = gradient_loss(output_layer.activation_output, Y)\n",
        "output_layer.backward_pass(dL)\n",
        "d_sig = gradient_sigmoid(input_layer, output_layer.grads)\n",
        "input_layer.backward_pass(d_sig)\n",
        "\n",
        "\n",
        "print('      # Backword Propagation.  ')\n",
        "print('Derivative shape of Loss         :', dL.shape)\n",
        "print('Derivative shape of hidden layer :',output_layer.grads.shape)\n",
        "print('Derivative shape of sigmoid layer:', d_sig.shape)\n",
        "print('Derivative shape of input layer  :', input_layer.grads.shape)"
      ],
      "execution_count": 31,
      "outputs": [
        {
          "output_type": "stream",
          "text": [
            "      # Backword Propagation.  \n",
            "Derivative shape of Loss         : (100, 10)\n",
            "Derivative shape of hidden layer : (100, 300)\n",
            "Derivative shape of sigmoid layer: (100, 300)\n",
            "Derivative shape of input layer  : (100, 784)\n"
          ],
          "name": "stdout"
        }
      ]
    },
    {
      "cell_type": "code",
      "metadata": {
        "id": "Cl0MYyP8jYqS",
        "outputId": "32c1eebd-261a-42bd-ff4b-4339c4af2560",
        "colab": {
          "base_uri": "https://localhost:8080/"
        }
      },
      "source": [
        "lr = 0.01 \n",
        "epochs = 20\n",
        "batch_size = 50\n",
        "training_loss = []\n",
        "validation_loss = []\n",
        "training_accuracy = []\n",
        "validation_accuracy = []\n",
        "\n",
        "# Setting up the network \n",
        "input_layer = layer(neuron_no=300, input_size=784)\n",
        "output_layer = layer(neuron_no=10, input_size=300)\n",
        "\n",
        "for epoch in np.arange(0, epochs):\n",
        "  trainLoss = []\n",
        "  trainAcc = []\n",
        "  valLoss = []\n",
        "  valAcc = []\n",
        "  for (miniX, miniY) in mini_batch(x_train, t_train_hot, batch_size):\n",
        "\n",
        "    # Forward Pass\n",
        "    input_layer.forward_pass(inputs=miniX, activation='sigmoid')\n",
        "    output_layer.forward_pass(inputs=input_layer.activation_output, \n",
        "                             activation='softmax')\n",
        "    # Calculate Loss \n",
        "    loss = log_loss(output_layer.activation_output, miniY)\n",
        "    # loss = np.sum(err ** 2)\n",
        "    trainLoss.append(loss)\n",
        "    \n",
        "    predictions = np.argmax(output_layer.activation_output, axis=1)\n",
        "    if len(miniY.shape) == 2:\n",
        "        y = np.argmax(miniY, axis=1)\n",
        "    accuracy = np.mean(predictions==y)\n",
        "    trainAcc.append(accuracy)\n",
        "\n",
        "    # Backward pass \n",
        "    dL = gradient_loss(output_layer.activation_output, miniY)\n",
        "    output_layer.backward_pass(dL)\n",
        "    d_sig = gradient_sigmoid(input_layer, output_layer.grads)\n",
        "    # print(d_sig)\n",
        "    input_layer.backward_pass(d_sig)\n",
        "\n",
        "    # update weights and biases \n",
        "    optimizer(input_layer, lr)\n",
        "    optimizer(output_layer, lr)\n",
        "  for (miniX, miniY) in mini_batch(x_test, t_test_hot, batch_size):\n",
        "\n",
        "    # Forward Pass\n",
        "    input_layer.forward_pass(inputs=miniX, activation='sigmoid')\n",
        "    output_layer.forward_pass(inputs=input_layer.activation_output, \n",
        "                             activation='softmax')\n",
        "    # Calculate Loss \n",
        "    loss = log_loss(output_layer.activation_output, miniY)\n",
        "    # loss = np.sum(err ** 2)\n",
        "    valLoss.append(loss)\n",
        "\n",
        "    predictions = np.argmax(output_layer.activation_output, axis=1)\n",
        "    if len(miniY.shape) == 2:\n",
        "        y = np.argmax(miniY, axis=1)\n",
        "    accuracy = np.mean(predictions==y)\n",
        "    valAcc.append(accuracy)\n",
        "\n",
        "  # print('epoch',epoch,'train loss:', np.average(trainLoss), \"Val loss:\", np.average(valLoss))\n",
        "  print(f'epoch {epoch}, train loss: {np.average(trainLoss):.3f}, val loss:{np.average(valLoss):.3f}, train acc:{np.average(trainAcc):.3f}, val acc:{np.average(valAcc):.3f}')\n",
        "  training_loss.append(np.average(trainLoss))\n",
        "  validation_loss.append(np.average(valLoss))\n",
        "  training_accuracy.append(np.average(trainAcc))\n",
        "  validation_accuracy.append(np.average(valAcc))\n",
        "\n"
      ],
      "execution_count": 32,
      "outputs": [
        {
          "output_type": "stream",
          "text": [
            "epoch 0, train loss: 0.392, val loss:0.250, train acc:0.890, val acc:0.923\n",
            "epoch 1, train loss: 0.201, val loss:0.181, train acc:0.942, val acc:0.946\n",
            "epoch 2, train loss: 0.147, val loss:0.143, train acc:0.958, val acc:0.958\n",
            "epoch 3, train loss: 0.116, val loss:0.120, train acc:0.967, val acc:0.963\n",
            "epoch 4, train loss: 0.095, val loss:0.106, train acc:0.973, val acc:0.968\n",
            "epoch 5, train loss: 0.081, val loss:0.096, train acc:0.977, val acc:0.971\n",
            "epoch 6, train loss: 0.069, val loss:0.090, train acc:0.981, val acc:0.973\n",
            "epoch 7, train loss: 0.060, val loss:0.085, train acc:0.983, val acc:0.974\n",
            "epoch 8, train loss: 0.053, val loss:0.081, train acc:0.986, val acc:0.976\n",
            "epoch 9, train loss: 0.047, val loss:0.078, train acc:0.987, val acc:0.977\n",
            "epoch 10, train loss: 0.041, val loss:0.075, train acc:0.989, val acc:0.977\n",
            "epoch 11, train loss: 0.037, val loss:0.073, train acc:0.991, val acc:0.978\n",
            "epoch 12, train loss: 0.033, val loss:0.072, train acc:0.992, val acc:0.978\n",
            "epoch 13, train loss: 0.029, val loss:0.071, train acc:0.993, val acc:0.978\n",
            "epoch 14, train loss: 0.026, val loss:0.070, train acc:0.994, val acc:0.978\n",
            "epoch 15, train loss: 0.024, val loss:0.069, train acc:0.995, val acc:0.978\n",
            "epoch 16, train loss: 0.021, val loss:0.068, train acc:0.996, val acc:0.978\n",
            "epoch 17, train loss: 0.019, val loss:0.068, train acc:0.997, val acc:0.978\n",
            "epoch 18, train loss: 0.018, val loss:0.067, train acc:0.997, val acc:0.979\n",
            "epoch 19, train loss: 0.016, val loss:0.067, train acc:0.998, val acc:0.979\n"
          ],
          "name": "stdout"
        }
      ]
    },
    {
      "cell_type": "code",
      "metadata": {
        "id": "2doB9xkYq953",
        "outputId": "d1881466-8de5-4ffc-a593-240fa883ee36",
        "colab": {
          "base_uri": "https://localhost:8080/",
          "height": 281
        }
      },
      "source": [
        "plt.title('Training vs Validation loss')\n",
        "plt.plot(training_loss, color='g', label='train' )\n",
        "plt.plot(validation_loss, linewidth=2, color='r', label='val')\n",
        "plt.legend()\n",
        "plt.grid()\n",
        "plt.show()"
      ],
      "execution_count": 33,
      "outputs": [
        {
          "output_type": "display_data",
          "data": {
            "image/png": "[encoded data removed]",
            "text/plain": [
              "<Figure size 432x288 with 1 Axes>"
            ]
          },
          "metadata": {
            "tags": [],
            "needs_background": "light"
          }
        }
      ]
    },
    {
      "cell_type": "code",
      "metadata": {
        "id": "Pfr9KhAZBQ7q",
        "outputId": "9ba9c95d-1ddb-443c-ed70-1edda8ea95f0",
        "colab": {
          "base_uri": "https://localhost:8080/",
          "height": 281
        }
      },
      "source": [
        "plt.title('Training vs Validation Accuracy')\n",
        "plt.plot(training_accuracy,color='g', label='train')\n",
        "plt.plot(validation_accuracy,linewidth=2, color='r', label='val')\n",
        "plt.legend()\n",
        "plt.grid()\n",
        "plt.show()"
      ],
      "execution_count": 34,
      "outputs": [
        {
          "output_type": "display_data",
          "data": {
            "image/png": "[encoded data removed]",
            "text/plain": [
              "<Figure size 432x288 with 1 Axes>"
            ]
          },
          "metadata": {
            "tags": [],
            "needs_background": "light"
          }
        }
      ]
    }
  ]
}