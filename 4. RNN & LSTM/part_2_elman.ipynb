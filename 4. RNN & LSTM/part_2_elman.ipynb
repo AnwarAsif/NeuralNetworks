{
  "nbformat": 4,
  "nbformat_minor": 0,
  "metadata": {
    "colab": {
      "name": "part 2 elman.ipynb",
      "provenance": []
    },
    "kernelspec": {
      "name": "python3",
      "display_name": "Python 3"
    }
  },
  "cells": [
    {
      "cell_type": "markdown",
      "metadata": {
        "id": "Fnl7mZ8GKICQ"
      },
      "source": [
        "# Elman Network"
      ]
    },
    {
      "cell_type": "code",
      "metadata": {
        "id": "jDJ6ut6jNKbr"
      },
      "source": [
        "!pip install wget -q"
      ],
      "execution_count": null,
      "outputs": []
    },
    {
      "cell_type": "code",
      "metadata": {
        "id": "NwYqWM7bKENi"
      },
      "source": [
        "import wget, os, gzip, pickle, random, re, sys\n",
        "import torch\n",
        "import torchvision \n",
        "import torchvision.transforms as transforms\n",
        "import torch.nn as nn\n",
        "import torch.nn.functional as F\n",
        "import torch.optim as optim\n",
        "from torch.utils.data.sampler import SubsetRandomSampler\n",
        "from torchsummary import summary\n",
        "import numpy as np\n",
        "import matplotlib.pyplot as plt\n",
        "from statistics import mean, median, stdev\n",
        "import seaborn as sns"
      ],
      "execution_count": null,
      "outputs": []
    },
    {
      "cell_type": "code",
      "metadata": {
        "id": "vSlI_m4XJDVY"
      },
      "source": [
        "IMDB_URL = 'http://dlvu.github.io/data/imdb.{}.pkl.gz'\n",
        "IMDB_FILE = 'imdb.{}.pkl.gz'\n",
        "PAD, START, END, UNK = '.pad', '.start', '.end', '.unk'"
      ],
      "execution_count": null,
      "outputs": []
    },
    {
      "cell_type": "code",
      "metadata": {
        "id": "1Z9iPYVVKTX0"
      },
      "source": [
        "def load_imdb(final=False, val=5000, seed=0, voc=None, char=False):\n",
        "\n",
        "    cst = 'char' if char else 'word'\n",
        "\n",
        "    imdb_url = IMDB_URL.format(cst)\n",
        "    imdb_file = IMDB_FILE.format(cst)\n",
        "\n",
        "    if not os.path.exists(imdb_file):\n",
        "        wget.download(imdb_url)\n",
        "\n",
        "    with gzip.open(imdb_file) as file:\n",
        "        sequences, labels, i2w, w2i = pickle.load(file)\n",
        "\n",
        "    if voc is not None and voc < len(i2w):\n",
        "        nw_sequences = {}\n",
        "\n",
        "        i2w = i2w[:voc]\n",
        "        w2i = {w: i for i, w in enumerate(i2w)}\n",
        "\n",
        "        mx, unk = voc, w2i['.unk']\n",
        "        for key, seqs in sequences.items():\n",
        "            nw_sequences[key] = []\n",
        "            for seq in seqs:\n",
        "                seq = [s if s < mx else unk for s in seq]\n",
        "                nw_sequences[key].append(seq)\n",
        "\n",
        "        sequences = nw_sequences\n",
        "\n",
        "    if final:\n",
        "        return (sequences['train'], labels['train']), (sequences['test'], labels['test']), (i2w, w2i), 2\n",
        "\n",
        "    # Make a validation split\n",
        "    random.seed(seed)\n",
        "\n",
        "    x_train, y_train = [], []\n",
        "    x_val, y_val = [], []\n",
        "\n",
        "    val_ind = set( random.sample(range(len(sequences['train'])), k=val) )\n",
        "    for i, (s, l) in enumerate(zip(sequences['train'], labels['train'])):\n",
        "        if i in val_ind:\n",
        "            x_val.append(s)\n",
        "            y_val.append(l)\n",
        "        else:\n",
        "            x_train.append(s)\n",
        "            y_train.append(l)\n",
        "\n",
        "    return (x_train, y_train), \\\n",
        "           (x_val, y_val), \\\n",
        "           (i2w, w2i), 2"
      ],
      "execution_count": null,
      "outputs": []
    },
    {
      "cell_type": "code",
      "metadata": {
        "id": "MLmb8CiNKe-r"
      },
      "source": [
        "np.random.seed(1)\n",
        "(x_train, y_train), (x_val, y_val), (i2w, w2i), numcls = load_imdb(final=False)"
      ],
      "execution_count": null,
      "outputs": []
    },
    {
      "cell_type": "code",
      "metadata": {
        "id": "DsofyG96En06"
      },
      "source": [
        "def varLenLoader(X, y, batch_size):\n",
        "  X = np.array(X)\n",
        "  total_len = len(X)\n",
        "  bin = total_len*0.1\n",
        "  decay = int(total_len/bin)\n",
        "  for i in np.arange(0, X.shape[0], batch_size):\n",
        "    x_temp = X[i:i + batch_size]\n",
        "    y_mini = y[i:i + batch_size]\n",
        "\n",
        "    ln = np.array([len(x) for x in x_temp])\n",
        "    batch_length = ln.max()\n",
        "    x_min = []\n",
        "    for x in x_temp:\n",
        "      leng = len(x)\n",
        "      if leng < batch_length:\n",
        "        x_min.append(x+[w2i['.pad'] for x in range(batch_length - leng)])\n",
        "      else: x_min.append(x)\n",
        "    x_min = torch.tensor(x_min, dtype=torch.long)\n",
        "    y_mini = torch.tensor(y_mini)\n",
        "    if len(y_mini) == batch_size:\n",
        "      yield (x_min, y_mini)\n",
        "    else: \n",
        "      pass \n"
      ],
      "execution_count": null,
      "outputs": []
    },
    {
      "cell_type": "markdown",
      "metadata": {
        "id": "DHW2N60ZC6X9"
      },
      "source": [
        "# 2. Build Model"
      ]
    },
    {
      "cell_type": "code",
      "metadata": {
        "id": "qP89ne7AgCdp"
      },
      "source": [
        "class Elman(nn.Module):\n",
        "  def __init__(self, i_size, hsize, o_size):\n",
        "    super(Elman, self).__init__()\n",
        "    self.fc1 = nn.Linear(i_size+hsize, hsize)\n",
        "    self.fc2 = nn.Linear(hsize, o_size)\n",
        "  def forward(self, x, hidden=None):\n",
        "    b,t,e = x.size()\n",
        "    if hidden is None:\n",
        "      # hidden = torch.zeros(b, e, dtype=torch.float)\n",
        "      hidden = torch.autograd.Variable(torch.zeros((b, e)).type(torch.FloatTensor), requires_grad=True)\n",
        "    outs = [] \n",
        "    for i in range(t):\n",
        "      inp = torch.cat([x[:,i,:], hidden], dim=1)\n",
        "      hidden = torch.tanh(self.fc1(inp))\n",
        "      out = self.fc2(hidden)\n",
        "      outs.append(out[:, None, :])\n",
        "    return torch.cat(outs, dim=1), hidden"
      ],
      "execution_count": null,
      "outputs": []
    },
    {
      "cell_type": "code",
      "metadata": {
        "id": "VfAm1cK6BVSD"
      },
      "source": [
        "class NonRNN(nn.Module):\n",
        "  def __init__(self, num_embeddings, embedding_dim=300):\n",
        "    super(NonRNN, self).__init__()\n",
        "    self.embedding = nn.Embedding(num_embeddings, embedding_dim)   \n",
        "    self.fc1 = nn.Linear(300, 300)\n",
        "    self.elman = Elman(300,300,300)\n",
        "    self.fc2 = nn.Linear(300, 2)\n",
        "\n",
        "  def forward(self, sentence, hidden):\n",
        "    x = self.embedding(sentence)\n",
        "    x = F.relu(self.fc1(x))\n",
        "    x, hidden = self.elman(x, hidden)\n",
        "    x = torch.max(x, 1).values\n",
        "    # print(x.size())\n",
        "    x = self.fc2(x)\n",
        "    return x , hidden"
      ],
      "execution_count": null,
      "outputs": []
    },
    {
      "cell_type": "code",
      "metadata": {
        "id": "04xSFEa6idBK"
      },
      "source": [
        "def fit(model, epochs=3, lr=0.001, step_size=10, batch_size=64):\n",
        "  train_loss = []\n",
        "  train_acc = []\n",
        "  val_loss = []\n",
        "  val_acc = []\n",
        "  val_idx = []\n",
        "  # print('learning rate:',lr)\n",
        "  hidden = None\n",
        "  model.train()\n",
        "  optimizer = optim.Adam(model.parameters(), lr=lr)\n",
        "  for epoch in range(epochs):\n",
        "    print('epoch:',epoch) \n",
        "    correct = 0\n",
        "    tr_acc = 0\n",
        "    running_loss = 0.0\n",
        "    i = 0\n",
        "    for inputs, targets in varLenLoader(x_train, y_train, batch_size):   \n",
        "      outputs, hidden = model(inputs, hidden)\n",
        "      loss = F.cross_entropy(outputs, targets)\n",
        "      running_loss += loss.item()\n",
        "      \n",
        "      optimizer.zero_grad()\n",
        "      loss.backward()\n",
        "      optimizer.step()\n",
        "\n",
        "      hidden = torch.autograd.Variable(hidden.data)\n",
        "\n",
        "      if i % step_size == 0: \n",
        "        avg_loss = running_loss/step_size\n",
        "        train_loss.append(avg_loss)\n",
        "      \n",
        "        _, predicted = torch.max(outputs, 1)\n",
        "        correct += (predicted == targets).sum().item()\n",
        "        tr_acc = (100. * correct / len(targets))\n",
        "        train_acc.append(tr_acc)\n",
        "\n",
        "        print('loss:', avg_loss,'acc:', tr_acc)\n",
        "\n",
        "        running_loss = 0.0\n",
        "        correct = 0\n",
        "\n",
        "      if i %200 == 0: \n",
        "        v_loss, v_acc = valid_eval(model, x_val, y_val)\n",
        "        val_loss.append(v_loss)\n",
        "        val_acc.append(v_acc) \n",
        "        val_idx.append(i)\n",
        "      i +=1\n",
        "    try:\n",
        "      print('loss,', mean(train_loss))\n",
        "    except: pass\n",
        "\n",
        "    # print('Epoch{}, loss: {}'.format(epoch, train_loss/len(train_loss)))\n",
        "    \n",
        "  return train_loss, val_loss, val_acc, train_acc"
      ],
      "execution_count": null,
      "outputs": []
    },
    {
      "cell_type": "code",
      "metadata": {
        "id": "Bii9Ev-Gio0c"
      },
      "source": [
        "def test_eval(model:NonRNN):\n",
        "  model.eval()\n",
        "  test_loss = 0\n",
        "  correct = 0\n",
        "  with torch.no_grad():\n",
        "    \n",
        "    for inputs, labels in enumerate(testloader, 0):\n",
        "      inputs, labels = data\n",
        "      outputs = model(inputs)\n",
        "      test_loss += F.cross_entropy(outputs, labels)\n",
        "      _, predicted = torch.max(outputs, 1)\n",
        "      correct += (predicted == labels).sum().item()\n",
        "\n",
        "  test_loss /= len(testloader.dataset)\n",
        "  test_accs = (100. * correct / len(testloader.dataset))\n",
        "  print('\\nTest set: Avg. loss: {:.4f}, Accuracy: {}/{} ({:.0f}%)\\n'.format(\n",
        "    test_loss, correct, len(testloader.dataset),\n",
        "    100. * correct / len(testloader.dataset)))\n",
        "  return test_loss, test_accs"
      ],
      "execution_count": null,
      "outputs": []
    },
    {
      "cell_type": "code",
      "metadata": {
        "id": "qfBpbeY5i5nK"
      },
      "source": [
        "def valid_eval(model:NonRNN, x, y):\n",
        "  model.eval()\n",
        "  val_loss = 0\n",
        "  correct = 0\n",
        "  hidden = torch.autograd.Variable(torch.zeros((100,300)).type(torch.FloatTensor), requires_grad=False)\n",
        "  with torch.no_grad():\n",
        "    i = 0 \n",
        "    for inputs, labels in varLenLoader(x, y,100):\n",
        "      outputs, hidden = model(inputs, hidden)\n",
        "      val_loss += F.cross_entropy(outputs, labels)\n",
        "      _, predicted = torch.max(outputs, 1)\n",
        "      correct += (predicted == labels).sum().item()\n",
        "      i +=1\n",
        "  val_loss /= len(x)\n",
        "  val_acc = (100. * correct / len(x))\n",
        "  # print('Valid set: Avg. loss: {:.4f}, Accuracy: {}/{} ({:.0f}%)'.format(\n",
        "  #   val_loss, correct, split,\n",
        "  #   100. * correct / split))\n",
        "  return val_loss, val_acc\n",
        "# val_loss, val_acc = valid_eval(nonrr, x_val, y_val)\n",
        "# print(val_loss, val_acc)"
      ],
      "execution_count": null,
      "outputs": []
    },
    {
      "cell_type": "code",
      "metadata": {
        "id": "r6F9KyZNi8ze"
      },
      "source": [
        "batch_size = 100\n",
        "learning_rate = 0.001\n",
        "epochs = 1\n",
        "step_size = 20 # inverval steps for logging the loss and accuracy \n",
        "num_embeddings = len(w2i)"
      ],
      "execution_count": null,
      "outputs": []
    },
    {
      "cell_type": "code",
      "metadata": {
        "colab": {
          "base_uri": "https://localhost:8080/"
        },
        "id": "8sJHyZ-BjQ8m",
        "outputId": "6da71886-b285-49cc-c824-3ec21c0e88ae"
      },
      "source": [
        "nonrr = NonRNN(num_embeddings=num_embeddings)\n",
        "train_loss, val_loss, val_acc, train_acc = fit(nonrr, lr=learning_rate, epochs=epochs, step_size=step_size)"
      ],
      "execution_count": null,
      "outputs": [
        {
          "output_type": "stream",
          "text": [
            "epoch: 0\n",
            "loss: 0.035569587349891664 acc: 43.75\n",
            "loss: 0.6200682073831558 acc: 81.25\n",
            "loss: 0.47367376685142515 acc: 81.25\n",
            "loss: 0.3479205258190632 acc: 100.0\n",
            "loss: 0.4089129909873009 acc: 85.9375\n",
            "loss: 0.2563626523129642 acc: 68.75\n",
            "loss: 0.3464681379497051 acc: 96.875\n",
            "loss: 0.371968736499548 acc: 81.25\n",
            "loss: 0.37943225875496867 acc: 95.3125\n",
            "loss: 0.44387380257248876 acc: 64.0625\n",
            "loss: 0.41683421805500986 acc: 81.25\n",
            "loss: 0.42407965660095215 acc: 75.0\n",
            "loss: 0.377807255089283 acc: 79.6875\n",
            "loss: 0.41983212530612946 acc: 84.375\n",
            "loss: 0.4195969671010971 acc: 68.75\n",
            "loss: 0.3962599217891693 acc: 79.6875\n",
            "loss, 0.3836663006513845\n"
          ],
          "name": "stdout"
        }
      ]
    },
    {
      "cell_type": "code",
      "metadata": {
        "colab": {
          "base_uri": "https://localhost:8080/",
          "height": 819
        },
        "id": "WE8EZuOQni9i",
        "outputId": "8a4c0e8d-d656-4e4d-c2cc-542cad4a2c40"
      },
      "source": [
        "# plt.plot(train_loss, color='r')\n",
        "plt.figure(num=None, figsize=(8, 6), dpi=80, facecolor='w', edgecolor='k')\n",
        "plt.plot(train_loss, color='g', label='train loss')\n",
        "# plt.plot(val_loss, color='r', label='val loss')\n",
        "plt.legend()\n",
        "plt.grid()\n",
        "\n",
        "plt.figure(num=None, figsize=(8, 6), dpi=80, facecolor='w', edgecolor='k')\n",
        "plt.plot(train_acc, color='g', label='train acc')\n",
        "# plt.plot(val_acc, color='r', label='val acc')\n",
        "plt.legend()\n",
        "plt.grid()\n",
        "\n"
      ],
      "execution_count": null,
      "outputs": [
        {
          "output_type": "display_data",
          "data": {
            "image/png": "[encoded data removed]",
            "text/plain": [
              "<Figure size 640x480 with 1 Axes>"
            ]
          },
          "metadata": {
            "tags": []
          }
        },
        {
          "output_type": "display_data",
          "data": {
            "image/png": "[encoded data removed]",
            "text/plain": [
              "<Figure size 640x480 with 1 Axes>"
            ]
          },
          "metadata": {
            "tags": []
          }
        }
      ]
    },
    {
      "cell_type": "code",
      "metadata": {
        "colab": {
          "base_uri": "https://localhost:8080/"
        },
        "id": "kNMKstc6IxsU",
        "outputId": "b23ec85b-14e6-4b8f-b40a-ff1cabdabede"
      },
      "source": [
        "v_loss, v_acc = valid_eval(nonrr, x_val, y_val)\n",
        "print(v_loss, str(v_acc)+'%')"
      ],
      "execution_count": null,
      "outputs": [
        {
          "output_type": "stream",
          "text": [
            "tensor(0.0040) 81.16%\n"
          ],
          "name": "stdout"
        }
      ]
    }
  ]
}